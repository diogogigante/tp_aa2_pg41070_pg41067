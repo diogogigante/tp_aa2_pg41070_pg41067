{
 "cells": [
  {
   "cell_type": "code",
   "execution_count": 1,
   "metadata": {},
   "outputs": [],
   "source": [
    "import tensorflow as tf\n",
    "import matplotlib.pyplot as plt\n",
    "from tensorflow.keras.preprocessing.image import ImageDataGenerator\n",
    "from tensorflow.keras.models import Sequential\n",
    "from tensorflow.keras.layers import Dense\n",
    "from tensorflow.keras.layers import Flatten\n",
    "from tensorflow.keras.layers import Dropout\n",
    "from tensorflow.keras.callbacks import ReduceLROnPlateau\n",
    "from tensorflow.keras.callbacks import ModelCheckpoint\n",
    "import seaborn as sns"
   ]
  },
  {
   "cell_type": "code",
   "execution_count": 2,
   "metadata": {},
   "outputs": [],
   "source": [
    "dataset_dividido_folder = 'brain_tumor_dataset_dividido/'\n",
    "\n",
    "treino_folder = 'treino/'\n",
    "teste_folder = 'teste/'\n",
    "\n",
    "dataset_dividido_folder_treino = dataset_dividido_folder + treino_folder\n",
    "dataset_dividido_folder_teste = dataset_dividido_folder + teste_folder"
   ]
  },
  {
   "cell_type": "code",
   "execution_count": 3,
   "metadata": {},
   "outputs": [],
   "source": [
    "datagen_treino = ImageDataGenerator(rescale = 1./255,\n",
    "                                    vertical_flip=True,\n",
    "                                    horizontal_flip=True,\n",
    "                                    validation_split=0.25) #25% dos 75% iniciais, para validação\n",
    "\n",
    "datagen_teste = ImageDataGenerator(rescale = 1./255)"
   ]
  },
  {
   "cell_type": "code",
   "execution_count": 4,
   "metadata": {},
   "outputs": [
    {
     "name": "stdout",
     "output_type": "stream",
     "text": [
      "Found 142 images belonging to 2 classes.\n",
      "Found 47 images belonging to 2 classes.\n",
      "Found 64 images belonging to 2 classes.\n",
      "{'no': 0, 'yes': 1}\n"
     ]
    }
   ],
   "source": [
    "seed = 123\n",
    "\n",
    "dados_treino = datagen_treino.flow_from_directory(\n",
    "    dataset_dividido_folder_treino,\n",
    "    target_size = (150,150),\n",
    "    color_mode = \"grayscale\",\n",
    "    batch_size = 30,\n",
    "    class_mode=\"binary\",\n",
    "    subset='training',\n",
    "    seed = seed)\n",
    "\n",
    "dados_validacao = datagen_treino.flow_from_directory(\n",
    "    dataset_dividido_folder_treino,\n",
    "    target_size = (150,150),\n",
    "    color_mode = \"grayscale\",\n",
    "    batch_size = 30,\n",
    "    class_mode=\"binary\",\n",
    "    subset='validation',\n",
    "    seed = seed)\n",
    "\n",
    "dados_teste = datagen_teste.flow_from_directory(\n",
    "    dataset_dividido_folder_teste,\n",
    "    target_size = (150,150),\n",
    "    color_mode = \"grayscale\",\n",
    "    batch_size = 30,\n",
    "    class_mode = 'binary')\n",
    "\n",
    "print(dados_treino.class_indices)"
   ]
  },
  {
   "cell_type": "code",
   "execution_count": 5,
   "metadata": {},
   "outputs": [],
   "source": [
    "def build_model():\n",
    "    model = Sequential()\n",
    "\n",
    "    model.add(Dense(64, activation = 'relu', input_shape = (150,150,1)))\n",
    "    model.add(Dropout(0.3))\n",
    "    model.add(Flatten())\n",
    "    model.add(Dense(1, activation = 'sigmoid'))\n",
    "\n",
    "    model.compile(loss = \"binary_crossentropy\", optimizer = tf.keras.optimizers.Adam(learning_rate = 0.001), metrics = ['accuracy'])\n",
    "    \n",
    "    return model"
   ]
  },
  {
   "cell_type": "code",
   "execution_count": 6,
   "metadata": {},
   "outputs": [
    {
     "name": "stdout",
     "output_type": "stream",
     "text": [
      "WARNING:tensorflow:sample_weight modes were coerced from\n",
      "  ...\n",
      "    to  \n",
      "  ['...']\n",
      "WARNING:tensorflow:sample_weight modes were coerced from\n",
      "  ...\n",
      "    to  \n",
      "  ['...']\n",
      "Train for 5 steps, validate for 2 steps\n",
      "Epoch 1/50\n",
      "4/5 [=======================>......] - ETA: 1s - loss: 3.8843 - accuracy: 0.5714\n",
      "Epoch 00001: val_accuracy improved from -inf to 0.61702, saving model to best_weights_simple_dense.hdf5\n",
      "5/5 [==============================] - 7s 1s/step - loss: 3.6301 - accuracy: 0.5563 - val_loss: 2.3397 - val_accuracy: 0.6170\n",
      "Epoch 2/50\n",
      "4/5 [=======================>......] - ETA: 1s - loss: 0.9500 - accuracy: 0.6696\n",
      "Epoch 00002: val_accuracy improved from 0.61702 to 0.65957, saving model to best_weights_simple_dense.hdf5\n",
      "5/5 [==============================] - 5s 1s/step - loss: 0.8802 - accuracy: 0.6761 - val_loss: 0.8993 - val_accuracy: 0.6596\n",
      "Epoch 3/50\n",
      "4/5 [=======================>......] - ETA: 1s - loss: 1.0367 - accuracy: 0.6667\n",
      "Epoch 00003: val_accuracy did not improve from 0.65957\n",
      "5/5 [==============================] - 6s 1s/step - loss: 1.1532 - accuracy: 0.6620 - val_loss: 1.1283 - val_accuracy: 0.6596\n",
      "Epoch 4/50\n",
      "4/5 [=======================>......] - ETA: 1s - loss: 1.5472 - accuracy: 0.6875\n",
      "Epoch 00004: val_accuracy did not improve from 0.65957\n",
      "5/5 [==============================] - 5s 1s/step - loss: 1.3185 - accuracy: 0.7113 - val_loss: 1.9374 - val_accuracy: 0.5957\n",
      "Epoch 5/50\n",
      "4/5 [=======================>......] - ETA: 0s - loss: 1.1901 - accuracy: 0.6071\n",
      "Epoch 00005: val_accuracy did not improve from 0.65957\n",
      "5/5 [==============================] - 5s 936ms/step - loss: 1.0957 - accuracy: 0.6479 - val_loss: 2.2427 - val_accuracy: 0.6383\n",
      "Epoch 6/50\n",
      "4/5 [=======================>......] - ETA: 0s - loss: 1.5801 - accuracy: 0.6518\n",
      "Epoch 00006: val_accuracy improved from 0.65957 to 0.70213, saving model to best_weights_simple_dense.hdf5\n",
      "5/5 [==============================] - 4s 885ms/step - loss: 1.3780 - accuracy: 0.6831 - val_loss: 1.4909 - val_accuracy: 0.7021\n",
      "Epoch 7/50\n",
      "4/5 [=======================>......] - ETA: 0s - loss: 1.1567 - accuracy: 0.6964\n",
      "Epoch 00007: val_accuracy improved from 0.70213 to 0.80851, saving model to best_weights_simple_dense.hdf5\n",
      "5/5 [==============================] - 4s 853ms/step - loss: 0.9798 - accuracy: 0.7183 - val_loss: 1.4326 - val_accuracy: 0.8085\n",
      "Epoch 8/50\n",
      "4/5 [=======================>......] - ETA: 0s - loss: 1.0541 - accuracy: 0.7054\n",
      "Epoch 00008: val_accuracy did not improve from 0.80851\n",
      "5/5 [==============================] - 4s 830ms/step - loss: 0.9949 - accuracy: 0.7183 - val_loss: 1.4906 - val_accuracy: 0.6809\n",
      "Epoch 9/50\n",
      "4/5 [=======================>......] - ETA: 0s - loss: 0.5748 - accuracy: 0.7946\n",
      "Epoch 00009: val_accuracy did not improve from 0.80851\n",
      "5/5 [==============================] - 4s 873ms/step - loss: 0.5665 - accuracy: 0.7958 - val_loss: 1.7674 - val_accuracy: 0.6596\n",
      "Epoch 10/50\n",
      "4/5 [=======================>......] - ETA: 0s - loss: 0.3996 - accuracy: 0.8393\n",
      "Epoch 00010: val_accuracy did not improve from 0.80851\n",
      "5/5 [==============================] - 4s 829ms/step - loss: 0.4313 - accuracy: 0.8239 - val_loss: 1.3385 - val_accuracy: 0.6809\n",
      "Epoch 11/50\n",
      "4/5 [=======================>......] - ETA: 0s - loss: 0.3420 - accuracy: 0.8482\n",
      "Epoch 00011: val_accuracy did not improve from 0.80851\n",
      "5/5 [==============================] - 4s 822ms/step - loss: 0.3625 - accuracy: 0.8451 - val_loss: 1.1926 - val_accuracy: 0.8085\n",
      "Epoch 12/50\n",
      "4/5 [=======================>......] - ETA: 0s - loss: 0.2934 - accuracy: 0.8482\n",
      "Epoch 00012: val_accuracy did not improve from 0.80851\n",
      "5/5 [==============================] - 4s 855ms/step - loss: 0.2888 - accuracy: 0.8451 - val_loss: 1.2164 - val_accuracy: 0.8085\n",
      "Epoch 13/50\n",
      "4/5 [=======================>......] - ETA: 0s - loss: 0.2351 - accuracy: 0.8929\n",
      "Epoch 00013: val_accuracy did not improve from 0.80851\n",
      "5/5 [==============================] - 5s 928ms/step - loss: 0.2317 - accuracy: 0.9014 - val_loss: 1.1561 - val_accuracy: 0.7872\n",
      "Epoch 14/50\n",
      "4/5 [=======================>......] - ETA: 0s - loss: 0.2752 - accuracy: 0.8571\n",
      "Epoch 00014: val_accuracy did not improve from 0.80851\n",
      "5/5 [==============================] - 4s 827ms/step - loss: 0.2474 - accuracy: 0.8873 - val_loss: 1.1285 - val_accuracy: 0.7872\n",
      "Epoch 15/50\n",
      "4/5 [=======================>......] - ETA: 0s - loss: 0.2317 - accuracy: 0.9018\n",
      "Epoch 00015: val_accuracy did not improve from 0.80851\n",
      "5/5 [==============================] - 4s 829ms/step - loss: 0.2495 - accuracy: 0.8803 - val_loss: 1.1256 - val_accuracy: 0.7872\n",
      "Epoch 16/50\n",
      "4/5 [=======================>......] - ETA: 0s - loss: 0.2752 - accuracy: 0.8661\n",
      "Epoch 00016: val_accuracy did not improve from 0.80851\n",
      "5/5 [==============================] - 4s 839ms/step - loss: 0.2585 - accuracy: 0.8662 - val_loss: 1.0545 - val_accuracy: 0.7447\n",
      "Epoch 17/50\n",
      "4/5 [=======================>......] - ETA: 0s - loss: 0.2250 - accuracy: 0.9196\n",
      "Epoch 00017: val_accuracy did not improve from 0.80851\n",
      "5/5 [==============================] - 4s 850ms/step - loss: 0.2194 - accuracy: 0.9155 - val_loss: 1.1349 - val_accuracy: 0.7447\n",
      "Epoch 18/50\n",
      "4/5 [=======================>......] - ETA: 0s - loss: 0.1939 - accuracy: 0.9107\n",
      "Epoch 00018: val_accuracy did not improve from 0.80851\n",
      "5/5 [==============================] - 4s 838ms/step - loss: 0.1855 - accuracy: 0.9155 - val_loss: 1.0011 - val_accuracy: 0.8085\n",
      "Epoch 19/50\n",
      "4/5 [=======================>......] - ETA: 0s - loss: 0.2484 - accuracy: 0.9196\n",
      "Epoch 00019: val_accuracy did not improve from 0.80851\n",
      "5/5 [==============================] - 4s 851ms/step - loss: 0.2471 - accuracy: 0.9155 - val_loss: 1.0887 - val_accuracy: 0.7872\n",
      "Epoch 20/50\n",
      "4/5 [=======================>......] - ETA: 0s - loss: 0.1838 - accuracy: 0.9375\n",
      "Epoch 00020: val_accuracy did not improve from 0.80851\n",
      "5/5 [==============================] - 5s 984ms/step - loss: 0.1767 - accuracy: 0.9366 - val_loss: 1.0621 - val_accuracy: 0.7872\n",
      "Epoch 21/50\n",
      "4/5 [=======================>......] - ETA: 0s - loss: 0.1895 - accuracy: 0.9333\n",
      "Epoch 00021: val_accuracy did not improve from 0.80851\n",
      "5/5 [==============================] - 4s 826ms/step - loss: 0.1867 - accuracy: 0.9437 - val_loss: 1.0295 - val_accuracy: 0.7447\n",
      "Epoch 22/50\n",
      "4/5 [=======================>......] - ETA: 0s - loss: 0.1806 - accuracy: 0.9375\n",
      "Epoch 00022: val_accuracy did not improve from 0.80851\n",
      "5/5 [==============================] - 4s 831ms/step - loss: 0.1765 - accuracy: 0.9366 - val_loss: 0.9653 - val_accuracy: 0.8085\n",
      "Epoch 23/50\n",
      "4/5 [=======================>......] - ETA: 0s - loss: 0.1774 - accuracy: 0.9107\n",
      "Epoch 00023: val_accuracy did not improve from 0.80851\n",
      "5/5 [==============================] - 4s 835ms/step - loss: 0.1710 - accuracy: 0.9155 - val_loss: 0.9745 - val_accuracy: 0.7872\n",
      "Epoch 24/50\n",
      "4/5 [=======================>......] - ETA: 0s - loss: 0.1294 - accuracy: 0.9554\n",
      "Epoch 00024: val_accuracy did not improve from 0.80851\n",
      "5/5 [==============================] - 5s 1s/step - loss: 0.1491 - accuracy: 0.9507 - val_loss: 0.9718 - val_accuracy: 0.7872\n",
      "Epoch 25/50\n",
      "4/5 [=======================>......] - ETA: 0s - loss: 0.1807 - accuracy: 0.9375\n",
      "Epoch 00025: val_accuracy did not improve from 0.80851\n",
      "5/5 [==============================] - 5s 944ms/step - loss: 0.1770 - accuracy: 0.9437 - val_loss: 0.9691 - val_accuracy: 0.7660\n",
      "Epoch 26/50\n",
      "4/5 [=======================>......] - ETA: 0s - loss: 0.1823 - accuracy: 0.9375\n",
      "Epoch 00026: val_accuracy did not improve from 0.80851\n",
      "5/5 [==============================] - 5s 948ms/step - loss: 0.2050 - accuracy: 0.9155 - val_loss: 0.9394 - val_accuracy: 0.7660\n",
      "Epoch 27/50\n",
      "4/5 [=======================>......] - ETA: 0s - loss: 0.2149 - accuracy: 0.9107\n",
      "Epoch 00027: val_accuracy did not improve from 0.80851\n",
      "5/5 [==============================] - 5s 1s/step - loss: 0.2102 - accuracy: 0.9014 - val_loss: 0.9109 - val_accuracy: 0.7660\n",
      "Epoch 28/50\n",
      "4/5 [=======================>......] - ETA: 0s - loss: 0.1282 - accuracy: 0.9554\n",
      "Epoch 00028: val_accuracy did not improve from 0.80851\n",
      "5/5 [==============================] - 5s 959ms/step - loss: 0.1834 - accuracy: 0.9225 - val_loss: 0.9921 - val_accuracy: 0.7660\n",
      "Epoch 29/50\n",
      "4/5 [=======================>......] - ETA: 0s - loss: 0.1810 - accuracy: 0.9250\n",
      "Epoch 00029: val_accuracy did not improve from 0.80851\n",
      "5/5 [==============================] - 5s 944ms/step - loss: 0.2636 - accuracy: 0.8803 - val_loss: 0.9190 - val_accuracy: 0.8085\n",
      "Epoch 30/50\n",
      "4/5 [=======================>......] - ETA: 0s - loss: 0.1320 - accuracy: 0.9643\n",
      "Epoch 00030: val_accuracy did not improve from 0.80851\n",
      "5/5 [==============================] - 5s 935ms/step - loss: 0.1973 - accuracy: 0.9155 - val_loss: 1.1112 - val_accuracy: 0.7660\n",
      "Epoch 31/50\n",
      "4/5 [=======================>......] - ETA: 0s - loss: 0.1825 - accuracy: 0.9286\n",
      "Epoch 00031: val_accuracy did not improve from 0.80851\n",
      "5/5 [==============================] - 5s 949ms/step - loss: 0.1707 - accuracy: 0.9437 - val_loss: 1.1589 - val_accuracy: 0.7447\n",
      "Epoch 32/50\n",
      "4/5 [=======================>......] - ETA: 0s - loss: 0.1391 - accuracy: 0.9643\n",
      "Epoch 00032: val_accuracy did not improve from 0.80851\n",
      "5/5 [==============================] - 4s 844ms/step - loss: 0.1640 - accuracy: 0.9437 - val_loss: 1.1276 - val_accuracy: 0.7660\n",
      "Epoch 33/50\n",
      "4/5 [=======================>......] - ETA: 0s - loss: 0.1226 - accuracy: 0.9554\n",
      "Epoch 00033: val_accuracy did not improve from 0.80851\n",
      "5/5 [==============================] - 4s 838ms/step - loss: 0.1230 - accuracy: 0.9577 - val_loss: 1.2863 - val_accuracy: 0.7872\n",
      "Epoch 34/50\n",
      "4/5 [=======================>......] - ETA: 0s - loss: 0.1194 - accuracy: 0.9643\n",
      "Epoch 00034: val_accuracy did not improve from 0.80851\n",
      "5/5 [==============================] - 4s 884ms/step - loss: 0.1286 - accuracy: 0.9577 - val_loss: 1.2228 - val_accuracy: 0.7234\n",
      "Epoch 35/50\n",
      "4/5 [=======================>......] - ETA: 0s - loss: 0.1334 - accuracy: 0.9464\n",
      "Epoch 00035: val_accuracy did not improve from 0.80851\n",
      "5/5 [==============================] - 4s 825ms/step - loss: 0.1246 - accuracy: 0.9577 - val_loss: 1.2577 - val_accuracy: 0.8085\n",
      "Epoch 36/50\n",
      "4/5 [=======================>......] - ETA: 0s - loss: 0.1404 - accuracy: 0.9821\n",
      "Epoch 00036: val_accuracy did not improve from 0.80851\n",
      "5/5 [==============================] - 4s 835ms/step - loss: 0.1303 - accuracy: 0.9859 - val_loss: 1.2604 - val_accuracy: 0.7872\n",
      "Epoch 37/50\n",
      "4/5 [=======================>......] - ETA: 0s - loss: 0.1059 - accuracy: 0.9732\n",
      "Epoch 00037: val_accuracy did not improve from 0.80851\n",
      "5/5 [==============================] - 4s 821ms/step - loss: 0.1141 - accuracy: 0.9648 - val_loss: 1.2403 - val_accuracy: 0.7660\n",
      "Epoch 38/50\n",
      "4/5 [=======================>......] - ETA: 0s - loss: 0.0786 - accuracy: 0.9911\n",
      "Epoch 00038: val_accuracy did not improve from 0.80851\n",
      "5/5 [==============================] - 4s 859ms/step - loss: 0.0844 - accuracy: 0.9930 - val_loss: 1.3391 - val_accuracy: 0.7447\n",
      "Epoch 39/50\n",
      "4/5 [=======================>......] - ETA: 0s - loss: 0.0953 - accuracy: 0.9833\n",
      "Epoch 00039: val_accuracy did not improve from 0.80851\n",
      "5/5 [==============================] - 4s 871ms/step - loss: 0.0915 - accuracy: 0.9859 - val_loss: 1.2121 - val_accuracy: 0.7660\n",
      "Epoch 40/50\n",
      "4/5 [=======================>......] - ETA: 0s - loss: 0.1026 - accuracy: 0.9750\n",
      "Epoch 00040: val_accuracy did not improve from 0.80851\n",
      "5/5 [==============================] - 4s 832ms/step - loss: 0.0932 - accuracy: 0.9789 - val_loss: 1.1958 - val_accuracy: 0.7872\n",
      "Epoch 41/50\n",
      "4/5 [=======================>......] - ETA: 0s - loss: 0.0796 - accuracy: 0.9911\n",
      "Epoch 00041: val_accuracy did not improve from 0.80851\n",
      "5/5 [==============================] - 4s 841ms/step - loss: 0.0879 - accuracy: 0.9859 - val_loss: 1.2156 - val_accuracy: 0.7872\n",
      "Epoch 42/50\n",
      "4/5 [=======================>......] - ETA: 0s - loss: 0.0738 - accuracy: 1.0000\n",
      "Epoch 00042: val_accuracy did not improve from 0.80851\n",
      "5/5 [==============================] - 4s 862ms/step - loss: 0.0664 - accuracy: 1.0000 - val_loss: 1.2447 - val_accuracy: 0.7872\n",
      "Epoch 43/50\n",
      "4/5 [=======================>......] - ETA: 0s - loss: 0.0761 - accuracy: 0.9821\n",
      "Epoch 00043: val_accuracy did not improve from 0.80851\n",
      "5/5 [==============================] - 4s 840ms/step - loss: 0.0695 - accuracy: 0.9859 - val_loss: 1.2236 - val_accuracy: 0.7660\n",
      "Epoch 44/50\n",
      "4/5 [=======================>......] - ETA: 0s - loss: 0.0506 - accuracy: 1.0000\n",
      "Epoch 00044: val_accuracy did not improve from 0.80851\n",
      "5/5 [==============================] - 4s 823ms/step - loss: 0.0604 - accuracy: 1.0000 - val_loss: 1.2392 - val_accuracy: 0.7660\n",
      "Epoch 45/50\n",
      "4/5 [=======================>......] - ETA: 0s - loss: 0.0698 - accuracy: 1.0000\n",
      "Epoch 00045: val_accuracy did not improve from 0.80851\n",
      "5/5 [==============================] - 4s 837ms/step - loss: 0.0664 - accuracy: 1.0000 - val_loss: 1.1543 - val_accuracy: 0.7660\n",
      "Epoch 46/50\n",
      "4/5 [=======================>......] - ETA: 0s - loss: 0.0716 - accuracy: 0.9911\n",
      "Epoch 00046: val_accuracy did not improve from 0.80851\n",
      "5/5 [==============================] - 4s 851ms/step - loss: 0.0650 - accuracy: 0.9930 - val_loss: 1.1419 - val_accuracy: 0.7660\n",
      "Epoch 47/50\n",
      "4/5 [=======================>......] - ETA: 0s - loss: 0.0611 - accuracy: 0.9911\n",
      "Epoch 00047: val_accuracy did not improve from 0.80851\n",
      "5/5 [==============================] - 4s 820ms/step - loss: 0.0588 - accuracy: 0.9930 - val_loss: 1.2093 - val_accuracy: 0.7660\n",
      "Epoch 48/50\n",
      "4/5 [=======================>......] - ETA: 0s - loss: 0.0487 - accuracy: 1.0000\n",
      "Epoch 00048: val_accuracy did not improve from 0.80851\n",
      "5/5 [==============================] - 4s 825ms/step - loss: 0.0537 - accuracy: 1.0000 - val_loss: 1.2188 - val_accuracy: 0.7660\n",
      "Epoch 49/50\n",
      "4/5 [=======================>......] - ETA: 0s - loss: 0.0504 - accuracy: 0.9911\n",
      "Epoch 00049: val_accuracy did not improve from 0.80851\n",
      "5/5 [==============================] - 4s 845ms/step - loss: 0.0569 - accuracy: 0.9930 - val_loss: 1.2242 - val_accuracy: 0.7660\n",
      "Epoch 50/50\n",
      "4/5 [=======================>......] - ETA: 0s - loss: 0.0493 - accuracy: 1.0000\n",
      "Epoch 00050: val_accuracy did not improve from 0.80851\n",
      "5/5 [==============================] - 4s 832ms/step - loss: 0.0461 - accuracy: 1.0000 - val_loss: 1.2605 - val_accuracy: 0.7660\n"
     ]
    }
   ],
   "source": [
    "Reduce_learning_rate = ReduceLROnPlateau(monitor='val_loss', factor=0.2,patience=5, min_lr=0.001)\n",
    "checkpointer = ModelCheckpoint(filepath=\"best_weights_simple_dense.hdf5\", monitor = 'val_accuracy', verbose=1, save_best_only=True)\n",
    "callbacks = [Reduce_learning_rate, checkpointer]\n",
    "\n",
    "model = build_model()\n",
    "history = model.fit(dados_treino, validation_data = dados_validacao, epochs = 50, callbacks = callbacks)"
   ]
  },
  {
   "cell_type": "code",
   "execution_count": 7,
   "metadata": {},
   "outputs": [
    {
     "name": "stdout",
     "output_type": "stream",
     "text": [
      "WARNING:tensorflow:sample_weight modes were coerced from\n",
      "  ...\n",
      "    to  \n",
      "  ['...']\n",
      "3/3 [==============================] - 0s 154ms/step - loss: 1.1304 - accuracy: 0.7656\n"
     ]
    },
    {
     "data": {
      "text/plain": [
       "[1.1304436723391216, 0.765625]"
      ]
     },
     "execution_count": 7,
     "metadata": {},
     "output_type": "execute_result"
    }
   ],
   "source": [
    "model.evaluate(dados_teste)"
   ]
  },
  {
   "cell_type": "code",
   "execution_count": 8,
   "metadata": {},
   "outputs": [
    {
     "name": "stdout",
     "output_type": "stream",
     "text": [
      "WARNING:tensorflow:sample_weight modes were coerced from\n",
      "  ...\n",
      "    to  \n",
      "  ['...']\n",
      "3/3 [==============================] - 0s 151ms/step - loss: 1.0865 - accuracy: 0.6719\n"
     ]
    },
    {
     "data": {
      "text/plain": [
       "[1.086472491423289, 0.671875]"
      ]
     },
     "execution_count": 8,
     "metadata": {},
     "output_type": "execute_result"
    }
   ],
   "source": [
    "model_best_weights = build_model()\n",
    "model_best_weights.load_weights('best_weights_simple_dense.hdf5')\n",
    "\n",
    "model_best_weights.evaluate(dados_teste)"
   ]
  },
  {
   "cell_type": "code",
   "execution_count": 9,
   "metadata": {},
   "outputs": [
    {
     "data": {
      "image/png": "[encoded data removed]",
      "text/plain": [
       "<Figure size 432x288 with 1 Axes>"
      ]
     },
     "metadata": {
      "needs_background": "light"
     },
     "output_type": "display_data"
    },
    {
     "data": {
      "image/png": "[encoded data removed]",
      "text/plain": [
       "<Figure size 432x288 with 1 Axes>"
      ]
     },
     "metadata": {
      "needs_background": "light"
     },
     "output_type": "display_data"
    }
   ],
   "source": [
    "#Visualizar gráficos\n",
    "accuracy = history.history['accuracy']\n",
    "val_accuracy = history.history['val_accuracy']\n",
    "loss = history.history['loss']\n",
    "val_loss = history.history['val_loss']\n",
    "epochs = range(len(accuracy))\n",
    "\n",
    "#Gráfico Accuracy\n",
    "plt.plot(epochs, accuracy, 'b', color = 'green', label = 'Accuracy Treino')\n",
    "plt.plot(epochs, val_accuracy, 'b', label = 'Accuracy Validação')\n",
    "plt.title('Accuracy do treino e da validação')\n",
    "plt.legend()\n",
    "plt.figure()\n",
    "\n",
    "#Gráfico Loss\n",
    "plt.plot(epochs, loss, 'b', color = 'green', label = 'Loss Treino')\n",
    "plt.plot(epochs, val_loss, 'b', label = 'Loss Validação')\n",
    "plt.title('Loss do treino e da validação')\n",
    "plt.legend()\n",
    "plt.show()"
   ]
  }
 ],
 "metadata": {
  "kernelspec": {
   "display_name": "Python 3",
   "language": "python",
   "name": "python3"
  },
  "language_info": {
   "codemirror_mode": {
    "name": "ipython",
    "version": 3
   },
   "file_extension": ".py",
   "mimetype": "text/x-python",
   "name": "python",
   "nbconvert_exporter": "python",
   "pygments_lexer": "ipython3",
   "version": "3.7.7"
  }
 },
 "nbformat": 4,
 "nbformat_minor": 4
}
