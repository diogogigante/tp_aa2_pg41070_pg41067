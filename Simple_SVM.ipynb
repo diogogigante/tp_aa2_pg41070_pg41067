{
 "cells": [
  {
   "cell_type": "code",
   "execution_count": 1,
   "metadata": {},
   "outputs": [],
   "source": [
    "import os\n",
    "import numpy as np\n",
    "import tensorflow as tf\n",
    "import matplotlib.pyplot as plt\n",
    "from tensorflow.keras.preprocessing.image import ImageDataGenerator\n",
    "from sklearn import svm\n",
    "import seaborn as sns\n",
    "from sklearn.model_selection import cross_val_score"
   ]
  },
  {
   "cell_type": "code",
   "execution_count": 2,
   "metadata": {},
   "outputs": [
    {
     "data": {
      "image/png": "[encoded data removed]",
      "text/plain": [
       "<Figure size 360x360 with 1 Axes>"
      ]
     },
     "metadata": {
      "needs_background": "light"
     },
     "output_type": "display_data"
    }
   ],
   "source": [
    "dataset_folder = 'brain_tumor_dataset/'\n",
    "dataset_dividido_folder = 'brain_tumor_dataset_dividido_v2/'\n",
    "\n",
    "treino_folder = 'treino/'\n",
    "teste_folder = 'teste/'\n",
    "\n",
    "yes = 'yes/'\n",
    "no = 'no/'\n",
    "\n",
    "dataset_dividido_folder_treino = dataset_dividido_folder + treino_folder\n",
    "dataset_dividido_folder_teste = dataset_dividido_folder + teste_folder\n",
    "\n",
    "dir_train_yes = os.listdir(dataset_dividido_folder_treino + yes)\n",
    "dir_train_no = os.listdir(dataset_dividido_folder_treino + no)\n",
    "dir_test_yes = os.listdir(dataset_dividido_folder_teste + yes)\n",
    "dir_test_no = os.listdir(dataset_dividido_folder_teste + no)\n",
    "fig_dims = (5, 5)\n",
    "fig, ax = plt.subplots(figsize=fig_dims)\n",
    "sns.set_style('whitegrid')\n",
    "grafico = sns.barplot(ax = ax, x=['Train Yes','Train No','Test Yes','Test No'], y=[len(dir_train_yes),len(dir_train_no),len(dir_test_yes),len(dir_test_no)])\n",
    "grafico.set_title('Dados Dataset Dividido')\n",
    "plt.show()"
   ]
  },
  {
   "cell_type": "code",
   "execution_count": 3,
   "metadata": {},
   "outputs": [
    {
     "name": "stdout",
     "output_type": "stream",
     "text": [
      "Found 253 images belonging to 2 classes.\n"
     ]
    }
   ],
   "source": [
    "seed = 123\n",
    "dados_size = 253\n",
    "\n",
    "datagen = ImageDataGenerator(rescale = 1./255)\n",
    "\n",
    "dados = datagen.flow_from_directory(\n",
    "    dataset_folder,\n",
    "    target_size = (150,150),\n",
    "    color_mode = \"grayscale\",\n",
    "    batch_size = dados_size,\n",
    "    class_mode=\"binary\")"
   ]
  },
  {
   "cell_type": "code",
   "execution_count": 4,
   "metadata": {},
   "outputs": [],
   "source": [
    "x_data = []\n",
    "y_data = []\n",
    "\n",
    "for inputs_batch, labels_batch in dados:\n",
    "    for i, img in enumerate(inputs_batch):\n",
    "        x_data.append(img.reshape(22500))\n",
    "        y_data.append(labels_batch[i])\n",
    "    break\n",
    "    \n",
    "x_data = np.array(x_data)\n",
    "y_data = np.array(y_data)"
   ]
  },
  {
   "cell_type": "code",
   "execution_count": 13,
   "metadata": {},
   "outputs": [],
   "source": [
    "def build_model():\n",
    "    model = svm.SVC(kernel='rbf',C=1)\n",
    "    return model"
   ]
  },
  {
   "cell_type": "code",
   "execution_count": 23,
   "metadata": {},
   "outputs": [
    {
     "name": "stdout",
     "output_type": "stream",
     "text": [
      "Kernel linear\n",
      "[0.70588235 0.74509804 0.70588235 0.9        0.76      ]\n",
      "0.7633725490196079\n",
      "Kernel rbf\n",
      "[0.78431373 0.82352941 0.68627451 0.88       0.8       ]\n",
      "0.7948235294117646\n",
      "Kernel poly\n",
      "[0.74509804 0.76470588 0.70588235 0.86       0.74      ]\n",
      "0.7631372549019607\n",
      "Kernel sigmoid\n",
      "[0.37254902 0.41176471 0.43137255 0.44       0.44      ]\n",
      "0.4191372549019608\n"
     ]
    }
   ],
   "source": [
    "model = build_model()\n",
    "\n",
    "kernels = ['linear', 'rbf', 'poly','sigmoid']\n",
    "for kernel in kernels:\n",
    "    svc = svm.SVC(kernel=kernel)\n",
    "    scores = cross_val_score(svc, x_data, y_data, cv = 5)\n",
    "    print('Kernel', kernel)\n",
    "    print(scores)\n",
    "    print(scores.mean())"
   ]
  },
  {
   "cell_type": "code",
   "execution_count": null,
   "metadata": {},
   "outputs": [],
   "source": []
  }
 ],
 "metadata": {
  "kernelspec": {
   "display_name": "Python 3",
   "language": "python",
   "name": "python3"
  },
  "language_info": {
   "codemirror_mode": {
    "name": "ipython",
    "version": 3
   },
   "file_extension": ".py",
   "mimetype": "text/x-python",
   "name": "python",
   "nbconvert_exporter": "python",
   "pygments_lexer": "ipython3",
   "version": "3.7.7"
  }
 },
 "nbformat": 4,
 "nbformat_minor": 4
}
