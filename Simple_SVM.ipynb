{
 "cells": [
  {
   "cell_type": "code",
   "execution_count": 103,
   "metadata": {},
   "outputs": [],
   "source": [
    "import os\n",
    "import numpy as np\n",
    "import tensorflow as tf\n",
    "import matplotlib.pyplot as plt\n",
    "from tensorflow.keras.preprocessing.image import ImageDataGenerator\n",
    "from sklearn import svm\n",
    "import seaborn as sns"
   ]
  },
  {
   "cell_type": "code",
   "execution_count": 2,
   "metadata": {},
   "outputs": [
    {
     "data": {
      "image/png": "[encoded data removed]",
      "text/plain": [
       "<Figure size 360x360 with 1 Axes>"
      ]
     },
     "metadata": {
      "needs_background": "light"
     },
     "output_type": "display_data"
    }
   ],
   "source": [
    "dataset_folder = 'brain_tumor_dataset/'\n",
    "dataset_dividido_folder = 'brain_tumor_dataset_dividido_v2/'\n",
    "\n",
    "treino_folder = 'treino/'\n",
    "teste_folder = 'teste/'\n",
    "\n",
    "yes = 'yes/'\n",
    "no = 'no/'\n",
    "\n",
    "dataset_dividido_folder_treino = dataset_dividido_folder + treino_folder\n",
    "dataset_dividido_folder_teste = dataset_dividido_folder + teste_folder\n",
    "\n",
    "dir_train_yes = os.listdir(dataset_dividido_folder_treino + yes)\n",
    "dir_train_no = os.listdir(dataset_dividido_folder_treino + no)\n",
    "dir_test_yes = os.listdir(dataset_dividido_folder_teste + yes)\n",
    "dir_test_no = os.listdir(dataset_dividido_folder_teste + no)\n",
    "fig_dims = (5, 5)\n",
    "fig, ax = plt.subplots(figsize=fig_dims)\n",
    "sns.set_style('whitegrid')\n",
    "grafico = sns.barplot(ax = ax, x=['Train Yes','Train No','Test Yes','Test No'], y=[len(dir_train_yes),len(dir_train_no),len(dir_test_yes),len(dir_test_no)])\n",
    "grafico.set_title('Dados Dataset Dividido')\n",
    "plt.show()"
   ]
  },
  {
   "cell_type": "code",
   "execution_count": 66,
   "metadata": {},
   "outputs": [],
   "source": [
    "datagen_treino = ImageDataGenerator(rescale = 1./255,\n",
    "                                    vertical_flip=True,\n",
    "                                    horizontal_flip=True,\n",
    "                                    validation_split=0.25) #25% dos 75% iniciais, para validação\n",
    "\n",
    "datagen_teste = ImageDataGenerator(rescale = 1./255)"
   ]
  },
  {
   "cell_type": "code",
   "execution_count": 69,
   "metadata": {},
   "outputs": [
    {
     "name": "stdout",
     "output_type": "stream",
     "text": [
      "Found 142 images belonging to 2 classes.\n",
      "Found 47 images belonging to 2 classes.\n",
      "Found 64 images belonging to 2 classes.\n",
      "<class 'keras_preprocessing.image.directory_iterator.DirectoryIterator'>\n"
     ]
    }
   ],
   "source": [
    "seed = 123\n",
    "dados_treino_size = 142\n",
    "dados_teste_size = 64\n",
    "\n",
    "dados_treino = datagen_treino.flow_from_directory(\n",
    "    dataset_dividido_folder_treino,\n",
    "    target_size = (150,150),\n",
    "    color_mode = \"grayscale\",\n",
    "    batch_size = dados_treino_size,\n",
    "    class_mode=\"binary\",\n",
    "    subset='training',\n",
    "    seed = seed)\n",
    "\n",
    "dados_validacao = datagen_treino.flow_from_directory(\n",
    "    dataset_dividido_folder_treino,\n",
    "    target_size = (150,150),\n",
    "    color_mode = \"grayscale\",\n",
    "    batch_size = 30,\n",
    "    class_mode=\"binary\",\n",
    "    subset='validation',\n",
    "    seed = seed)\n",
    "\n",
    "dados_teste = datagen_teste.flow_from_directory(\n",
    "    dataset_dividido_folder_teste,\n",
    "    target_size = (150,150),\n",
    "    color_mode = \"grayscale\",\n",
    "    batch_size = dados_teste_size,\n",
    "    class_mode = 'binary')\n",
    "\n",
    "print(type(dados_treino))"
   ]
  },
  {
   "cell_type": "code",
   "execution_count": 112,
   "metadata": {},
   "outputs": [],
   "source": [
    "x_train = []\n",
    "y_train = []\n",
    "\n",
    "for inputs_batch, labels_batch in dados_treino:\n",
    "    for i, img in enumerate(inputs_batch):\n",
    "        x_train.append(img.reshape(22500))\n",
    "        y_train.append(labels_batch[i])\n",
    "    break\n",
    "    \n",
    "x_train = np.array(x_train)\n",
    "y_train = np.array(y_train)"
   ]
  },
  {
   "cell_type": "code",
   "execution_count": 116,
   "metadata": {},
   "outputs": [],
   "source": [
    "x_test = []\n",
    "y_test = []\n",
    "\n",
    "for inputs_batch, labels_batch in dados_treino:\n",
    "    for i, img in enumerate(inputs_batch):\n",
    "        x_test.append(img.reshape(22500))\n",
    "        y_test.append(labels_batch[i])\n",
    "    break\n",
    "    \n",
    "x_test = np.array(x_test)\n",
    "y_test = np.array(y_test)"
   ]
  },
  {
   "cell_type": "code",
   "execution_count": 113,
   "metadata": {},
   "outputs": [],
   "source": [
    "def build_model():\n",
    "    model = svm.SVC(kernel='linear',C=1)\n",
    "    return model"
   ]
  },
  {
   "cell_type": "code",
   "execution_count": 114,
   "metadata": {},
   "outputs": [],
   "source": [
    "model = build_model()\n",
    "history = model.fit(x_train, y_train)"
   ]
  },
  {
   "cell_type": "code",
   "execution_count": 117,
   "metadata": {},
   "outputs": [
    {
     "data": {
      "text/plain": [
       "0.8661971830985915"
      ]
     },
     "execution_count": 117,
     "metadata": {},
     "output_type": "execute_result"
    }
   ],
   "source": [
    "model.score(x_test,y_test)"
   ]
  },
  {
   "cell_type": "code",
   "execution_count": 27,
   "metadata": {},
   "outputs": [
    {
     "name": "stdout",
     "output_type": "stream",
     "text": [
      "WARNING:tensorflow:sample_weight modes were coerced from\n",
      "  ...\n",
      "    to  \n",
      "  ['...']\n",
      "3/3 [==============================] - 0s 126ms/step - loss: 0.9945 - accuracy: 0.7344\n"
     ]
    },
    {
     "data": {
      "text/plain": [
       "[0.9945400754610697, 0.734375]"
      ]
     },
     "execution_count": 27,
     "metadata": {},
     "output_type": "execute_result"
    }
   ],
   "source": [
    "model.evaluate(dados_teste)"
   ]
  },
  {
   "cell_type": "code",
   "execution_count": 28,
   "metadata": {},
   "outputs": [
    {
     "name": "stdout",
     "output_type": "stream",
     "text": [
      "WARNING:tensorflow:sample_weight modes were coerced from\n",
      "  ...\n",
      "    to  \n",
      "  ['...']\n",
      "3/3 [==============================] - 1s 176ms/step - loss: 0.9608 - accuracy: 0.7031\n"
     ]
    },
    {
     "data": {
      "text/plain": [
       "[0.9607575535774231, 0.703125]"
      ]
     },
     "execution_count": 28,
     "metadata": {},
     "output_type": "execute_result"
    }
   ],
   "source": [
    "model_best_weights = build_model()\n",
    "model_best_weights.load_weights('best_weights_simple_dense.hdf5')\n",
    "\n",
    "model_best_weights.evaluate(dados_teste)"
   ]
  },
  {
   "cell_type": "code",
   "execution_count": 29,
   "metadata": {},
   "outputs": [
    {
     "data": {
      "image/png": "[encoded data removed]",
      "text/plain": [
       "<Figure size 432x288 with 1 Axes>"
      ]
     },
     "metadata": {},
     "output_type": "display_data"
    },
    {
     "data": {
      "image/png": "[encoded data removed]",
      "text/plain": [
       "<Figure size 432x288 with 1 Axes>"
      ]
     },
     "metadata": {},
     "output_type": "display_data"
    }
   ],
   "source": [
    "#Visualizar gráficos\n",
    "accuracy = history.history['accuracy']\n",
    "val_accuracy = history.history['val_accuracy']\n",
    "loss = history.history['loss']\n",
    "val_loss = history.history['val_loss']\n",
    "epochs = range(len(accuracy))\n",
    "\n",
    "#Gráfico Accuracy\n",
    "plt.plot(epochs, accuracy, 'b', color = 'green', label = 'Accuracy Treino')\n",
    "plt.plot(epochs, val_accuracy, 'b', label = 'Accuracy Validação')\n",
    "plt.title('Accuracy do treino e da validação')\n",
    "plt.legend()\n",
    "plt.figure()\n",
    "\n",
    "#Gráfico Loss\n",
    "plt.plot(epochs, loss, 'b', color = 'green', label = 'Loss Treino')\n",
    "plt.plot(epochs, val_loss, 'b', label = 'Loss Validação')\n",
    "plt.title('Loss do treino e da validação')\n",
    "plt.legend()\n",
    "plt.show()"
   ]
  },
  {
   "cell_type": "code",
   "execution_count": null,
   "metadata": {},
   "outputs": [],
   "source": []
  }
 ],
 "metadata": {
  "kernelspec": {
   "display_name": "Python 3",
   "language": "python",
   "name": "python3"
  },
  "language_info": {
   "codemirror_mode": {
    "name": "ipython",
    "version": 3
   },
   "file_extension": ".py",
   "mimetype": "text/x-python",
   "name": "python",
   "nbconvert_exporter": "python",
   "pygments_lexer": "ipython3",
   "version": "3.7.7"
  }
 },
 "nbformat": 4,
 "nbformat_minor": 4
}
