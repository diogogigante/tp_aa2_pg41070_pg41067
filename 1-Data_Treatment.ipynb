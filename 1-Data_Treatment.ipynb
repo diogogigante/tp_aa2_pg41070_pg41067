{
 "cells": [
  {
   "cell_type": "code",
   "execution_count": 1,
   "metadata": {},
   "outputs": [],
   "source": [
    "import os, shutil"
   ]
  },
  {
   "cell_type": "markdown",
   "metadata": {},
   "source": [
    "#### Verificar se as pastas estão criadas, caso não estejam, criar"
   ]
  },
  {
   "cell_type": "code",
   "execution_count": 2,
   "metadata": {},
   "outputs": [],
   "source": [
    "dataset_folder = 'brain_tumor_dataset/'\n",
    "dataset_dividido_folder = 'brain_tumor_dataset_dividido/'\n",
    "\n",
    "treino_folder = 'treino/'\n",
    "teste_folder = 'teste/'\n",
    "\n",
    "yes = 'yes/'\n",
    "no = 'no/'\n",
    "\n",
    "if not os.path.isdir(dataset_dividido_folder):\n",
    "  os.mkdir(dataset_dividido_folder)\n",
    "\n",
    "if not os.path.isdir(dataset_dividido_folder + treino_folder):\n",
    "  os.mkdir(dataset_dividido_folder + treino_folder)\n",
    "  os.mkdir(dataset_dividido_folder + treino_folder + yes)\n",
    "  os.mkdir(dataset_dividido_folder + treino_folder + no)\n",
    "\n",
    "if not os.path.isdir(dataset_dividido_folder + teste_folder):\n",
    "  os.mkdir(dataset_dividido_folder + teste_folder)\n",
    "  os.mkdir(dataset_dividido_folder + teste_folder + yes)\n",
    "  os.mkdir(dataset_dividido_folder + teste_folder + no)"
   ]
  },
  {
   "cell_type": "markdown",
   "metadata": {},
   "source": [
    "#### Para cada pasta no diretório que contém o dataset inicial (pasta *yes* e *no*), dividir 25% das imagens para a pasta de teste, e os restantes 75% para treino"
   ]
  },
  {
   "cell_type": "code",
   "execution_count": 3,
   "metadata": {},
   "outputs": [],
   "source": [
    "for pasta in os.listdir(dataset_folder):\n",
    "    if not pasta.startswith('.'):\n",
    "        IMG_NUM = len(os.listdir(dataset_folder + pasta))\n",
    "        for (n, FILE_NAME) in enumerate(os.listdir(dataset_folder + pasta)):\n",
    "            img = dataset_folder + pasta + '/' + FILE_NAME\n",
    "            if n < 0.25 * IMG_NUM: #25% para teste\n",
    "                shutil.copy(img, dataset_dividido_folder + teste_folder + pasta + '/' + FILE_NAME) \n",
    "            else:                 #restantes 75% para treino/validação\n",
    "                shutil.copy(img, dataset_dividido_folder + treino_folder + pasta + '/' + FILE_NAME) "
   ]
  }
 ],
 "metadata": {
  "kernelspec": {
   "display_name": "Python 3",
   "language": "python",
   "name": "python3"
  },
  "language_info": {
   "codemirror_mode": {
    "name": "ipython",
    "version": 3
   },
   "file_extension": ".py",
   "mimetype": "text/x-python",
   "name": "python",
   "nbconvert_exporter": "python",
   "pygments_lexer": "ipython3",
   "version": "3.7.7"
  }
 },
 "nbformat": 4,
 "nbformat_minor": 4
}
