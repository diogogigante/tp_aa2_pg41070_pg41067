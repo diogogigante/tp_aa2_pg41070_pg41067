{
 "cells": [
  {
   "cell_type": "code",
   "execution_count": 1,
   "metadata": {},
   "outputs": [],
   "source": [
    "import tensorflow as tf\n",
    "import matplotlib.pyplot as plt\n",
    "from tensorflow.keras.preprocessing.image import ImageDataGenerator\n",
    "from tensorflow.keras.models import Sequential\n",
    "from tensorflow.keras.layers import Dense\n",
    "from tensorflow.keras.layers import Flatten\n",
    "from tensorflow.keras.layers import Conv2D\n",
    "from tensorflow.keras.callbacks import ReduceLROnPlateau\n",
    "from tensorflow.keras.callbacks import ModelCheckpoint\n",
    "import seaborn as sns"
   ]
  },
  {
   "cell_type": "code",
   "execution_count": 2,
   "metadata": {},
   "outputs": [],
   "source": [
    "dataset_dividido_folder = 'brain_tumor_dataset_dividido/'\n",
    "\n",
    "treino_folder = 'treino/'\n",
    "teste_folder = 'teste/'\n",
    "\n",
    "dataset_dividido_folder_treino = dataset_dividido_folder + treino_folder\n",
    "dataset_dividido_folder_teste = dataset_dividido_folder + teste_folder"
   ]
  },
  {
   "cell_type": "code",
   "execution_count": 3,
   "metadata": {},
   "outputs": [],
   "source": [
    "datagen_treino = ImageDataGenerator(rescale = 1./255,\n",
    "                                    vertical_flip=True,\n",
    "                                    horizontal_flip=True,\n",
    "                                    validation_split=0.25) #25% dos 75% iniciais, para validação\n",
    "\n",
    "datagen_teste = ImageDataGenerator(rescale = 1./255)"
   ]
  },
  {
   "cell_type": "code",
   "execution_count": 4,
   "metadata": {},
   "outputs": [
    {
     "name": "stdout",
     "output_type": "stream",
     "text": [
      "Found 142 images belonging to 2 classes.\n",
      "Found 47 images belonging to 2 classes.\n",
      "Found 64 images belonging to 2 classes.\n",
      "{'no': 0, 'yes': 1}\n"
     ]
    }
   ],
   "source": [
    "seed = 123\n",
    "\n",
    "dados_treino = datagen_treino.flow_from_directory(\n",
    "    dataset_dividido_folder_treino,\n",
    "    target_size = (150,150),\n",
    "    color_mode = \"grayscale\",\n",
    "    batch_size = 30,\n",
    "    class_mode=\"binary\",\n",
    "    subset='training',\n",
    "    seed = seed)\n",
    "\n",
    "dados_validacao = datagen_treino.flow_from_directory(\n",
    "    dataset_dividido_folder_treino,\n",
    "    target_size = (150,150),\n",
    "    color_mode = \"grayscale\",\n",
    "    batch_size = 30,\n",
    "    class_mode=\"binary\",\n",
    "    subset='validation',\n",
    "    seed = seed)\n",
    "\n",
    "dados_teste = datagen_teste.flow_from_directory(\n",
    "    dataset_dividido_folder_teste,\n",
    "    target_size = (150,150),\n",
    "    color_mode = \"grayscale\",\n",
    "    batch_size = 30,\n",
    "    class_mode = 'binary')\n",
    "\n",
    "print(dados_treino.class_indices)"
   ]
  },
  {
   "cell_type": "code",
   "execution_count": 5,
   "metadata": {},
   "outputs": [],
   "source": [
    "def build_model():\n",
    "    model = Sequential()\n",
    "\n",
    "    model.add(Conv2D(20,(3,3), input_shape = (150,150,1), activation = 'relu'))\n",
    "    model.add(Flatten())\n",
    "    model.add(Dense(1, activation = 'sigmoid'))\n",
    "    \n",
    "    model.compile(loss = \"binary_crossentropy\", optimizer = tf.keras.optimizers.Adam(learning_rate = 0.001), metrics = ['accuracy'])\n",
    "    \n",
    "    return model"
   ]
  },
  {
   "cell_type": "code",
   "execution_count": 6,
   "metadata": {},
   "outputs": [
    {
     "name": "stdout",
     "output_type": "stream",
     "text": [
      "WARNING:tensorflow:sample_weight modes were coerced from\n",
      "  ...\n",
      "    to  \n",
      "  ['...']\n",
      "WARNING:tensorflow:sample_weight modes were coerced from\n",
      "  ...\n",
      "    to  \n",
      "  ['...']\n",
      "Train for 5 steps, validate for 2 steps\n",
      "Epoch 1/50\n",
      "4/5 [=======================>......] - ETA: 0s - loss: 1.5845 - accuracy: 0.5179\n",
      "Epoch 00001: val_accuracy improved from -inf to 0.91489, saving model to best_weights_simple_dense.hdf5\n",
      "5/5 [==============================] - 2s 342ms/step - loss: 1.4726 - accuracy: 0.5070 - val_loss: 0.3318 - val_accuracy: 0.9149\n",
      "Epoch 2/50\n",
      "4/5 [=======================>......] - ETA: 0s - loss: 0.9903 - accuracy: 0.7411\n",
      "Epoch 00002: val_accuracy did not improve from 0.91489\n",
      "5/5 [==============================] - 1s 198ms/step - loss: 0.9352 - accuracy: 0.7465 - val_loss: 0.4245 - val_accuracy: 0.8085\n",
      "Epoch 3/50\n",
      "4/5 [=======================>......] - ETA: 0s - loss: 0.6485 - accuracy: 0.7589\n",
      "Epoch 00003: val_accuracy did not improve from 0.91489\n",
      "5/5 [==============================] - 1s 209ms/step - loss: 0.5968 - accuracy: 0.7746 - val_loss: 0.6393 - val_accuracy: 0.6596\n",
      "Epoch 4/50\n",
      "4/5 [=======================>......] - ETA: 0s - loss: 0.5131 - accuracy: 0.7500\n",
      "Epoch 00004: val_accuracy did not improve from 0.91489\n",
      "5/5 [==============================] - 1s 205ms/step - loss: 0.4851 - accuracy: 0.7676 - val_loss: 0.4488 - val_accuracy: 0.8511\n",
      "Epoch 5/50\n",
      "4/5 [=======================>......] - ETA: 0s - loss: 0.4208 - accuracy: 0.7857\n",
      "Epoch 00005: val_accuracy did not improve from 0.91489\n",
      "5/5 [==============================] - 1s 193ms/step - loss: 0.4051 - accuracy: 0.8028 - val_loss: 0.4764 - val_accuracy: 0.7872\n",
      "Epoch 6/50\n",
      "4/5 [=======================>......] - ETA: 0s - loss: 0.3763 - accuracy: 0.8661\n",
      "Epoch 00006: val_accuracy did not improve from 0.91489\n",
      "5/5 [==============================] - 1s 200ms/step - loss: 0.3616 - accuracy: 0.8803 - val_loss: 0.4861 - val_accuracy: 0.8723\n",
      "Epoch 7/50\n",
      "4/5 [=======================>......] - ETA: 0s - loss: 0.2914 - accuracy: 0.9333\n",
      "Epoch 00007: val_accuracy did not improve from 0.91489\n",
      "5/5 [==============================] - 1s 200ms/step - loss: 0.3014 - accuracy: 0.9296 - val_loss: 0.4866 - val_accuracy: 0.8298\n",
      "Epoch 8/50\n",
      "4/5 [=======================>......] - ETA: 0s - loss: 0.2514 - accuracy: 0.9196\n",
      "Epoch 00008: val_accuracy did not improve from 0.91489\n",
      "5/5 [==============================] - 1s 196ms/step - loss: 0.2686 - accuracy: 0.9085 - val_loss: 0.4221 - val_accuracy: 0.8085\n",
      "Epoch 9/50\n",
      "4/5 [=======================>......] - ETA: 0s - loss: 0.2396 - accuracy: 0.9107\n",
      "Epoch 00009: val_accuracy did not improve from 0.91489\n",
      "5/5 [==============================] - 1s 202ms/step - loss: 0.2346 - accuracy: 0.9085 - val_loss: 0.3870 - val_accuracy: 0.8511\n",
      "Epoch 10/50\n",
      "4/5 [=======================>......] - ETA: 0s - loss: 0.1987 - accuracy: 0.9375\n",
      "Epoch 00010: val_accuracy did not improve from 0.91489\n",
      "5/5 [==============================] - 1s 198ms/step - loss: 0.1869 - accuracy: 0.9507 - val_loss: 0.3999 - val_accuracy: 0.8511\n",
      "Epoch 11/50\n",
      "4/5 [=======================>......] - ETA: 0s - loss: 0.2027 - accuracy: 0.9464\n",
      "Epoch 00011: val_accuracy did not improve from 0.91489\n",
      "5/5 [==============================] - 1s 198ms/step - loss: 0.1882 - accuracy: 0.9437 - val_loss: 0.3694 - val_accuracy: 0.8511\n",
      "Epoch 12/50\n",
      "4/5 [=======================>......] - ETA: 0s - loss: 0.1544 - accuracy: 0.9417\n",
      "Epoch 00012: val_accuracy did not improve from 0.91489\n",
      "5/5 [==============================] - 1s 199ms/step - loss: 0.1610 - accuracy: 0.9507 - val_loss: 0.3658 - val_accuracy: 0.8511\n",
      "Epoch 13/50\n",
      "4/5 [=======================>......] - ETA: 0s - loss: 0.1219 - accuracy: 0.9643\n",
      "Epoch 00013: val_accuracy did not improve from 0.91489\n",
      "5/5 [==============================] - 1s 198ms/step - loss: 0.1233 - accuracy: 0.9648 - val_loss: 0.4377 - val_accuracy: 0.8085\n",
      "Epoch 14/50\n",
      "4/5 [=======================>......] - ETA: 0s - loss: 0.1160 - accuracy: 0.9732\n",
      "Epoch 00014: val_accuracy did not improve from 0.91489\n",
      "5/5 [==============================] - 1s 208ms/step - loss: 0.1067 - accuracy: 0.9789 - val_loss: 0.4050 - val_accuracy: 0.8723\n",
      "Epoch 15/50\n",
      "4/5 [=======================>......] - ETA: 0s - loss: 0.1137 - accuracy: 0.9732\n",
      "Epoch 00015: val_accuracy did not improve from 0.91489\n",
      "5/5 [==============================] - 1s 199ms/step - loss: 0.1054 - accuracy: 0.9789 - val_loss: 0.4153 - val_accuracy: 0.8085\n",
      "Epoch 16/50\n",
      "4/5 [=======================>......] - ETA: 0s - loss: 0.0842 - accuracy: 0.9821\n",
      "Epoch 00016: val_accuracy did not improve from 0.91489\n",
      "5/5 [==============================] - 1s 202ms/step - loss: 0.0941 - accuracy: 0.9718 - val_loss: 0.3944 - val_accuracy: 0.7872\n",
      "Epoch 17/50\n",
      "4/5 [=======================>......] - ETA: 0s - loss: 0.0706 - accuracy: 0.9911\n",
      "Epoch 00017: val_accuracy did not improve from 0.91489\n",
      "5/5 [==============================] - 1s 210ms/step - loss: 0.0636 - accuracy: 0.9930 - val_loss: 0.4483 - val_accuracy: 0.8085\n",
      "Epoch 18/50\n",
      "4/5 [=======================>......] - ETA: 0s - loss: 0.0577 - accuracy: 0.9917\n",
      "Epoch 00018: val_accuracy did not improve from 0.91489\n",
      "5/5 [==============================] - 1s 194ms/step - loss: 0.0537 - accuracy: 0.9930 - val_loss: 0.3847 - val_accuracy: 0.8723\n",
      "Epoch 19/50\n",
      "4/5 [=======================>......] - ETA: 0s - loss: 0.0656 - accuracy: 0.9750\n",
      "Epoch 00019: val_accuracy did not improve from 0.91489\n",
      "5/5 [==============================] - 1s 199ms/step - loss: 0.0667 - accuracy: 0.9789 - val_loss: 0.4049 - val_accuracy: 0.8085\n",
      "Epoch 20/50\n",
      "4/5 [=======================>......] - ETA: 0s - loss: 0.0499 - accuracy: 0.9911\n",
      "Epoch 00020: val_accuracy did not improve from 0.91489\n",
      "5/5 [==============================] - 1s 203ms/step - loss: 0.0588 - accuracy: 0.9789 - val_loss: 0.4589 - val_accuracy: 0.8511\n",
      "Epoch 21/50\n",
      "4/5 [=======================>......] - ETA: 0s - loss: 0.0470 - accuracy: 0.9917\n",
      "Epoch 00021: val_accuracy did not improve from 0.91489\n",
      "5/5 [==============================] - 1s 207ms/step - loss: 0.0480 - accuracy: 0.9930 - val_loss: 0.3986 - val_accuracy: 0.8511\n",
      "Epoch 22/50\n",
      "4/5 [=======================>......] - ETA: 0s - loss: 0.0446 - accuracy: 0.9911\n",
      "Epoch 00022: val_accuracy did not improve from 0.91489\n",
      "5/5 [==============================] - 1s 197ms/step - loss: 0.0427 - accuracy: 0.9930 - val_loss: 0.4750 - val_accuracy: 0.8298\n",
      "Epoch 23/50\n",
      "4/5 [=======================>......] - ETA: 0s - loss: 0.0402 - accuracy: 0.9833\n",
      "Epoch 00023: val_accuracy did not improve from 0.91489\n",
      "5/5 [==============================] - 1s 198ms/step - loss: 0.0360 - accuracy: 0.9859 - val_loss: 0.4025 - val_accuracy: 0.8085\n",
      "Epoch 24/50\n",
      "4/5 [=======================>......] - ETA: 0s - loss: 0.0262 - accuracy: 1.0000\n",
      "Epoch 00024: val_accuracy did not improve from 0.91489\n",
      "5/5 [==============================] - 1s 197ms/step - loss: 0.0267 - accuracy: 1.0000 - val_loss: 0.4178 - val_accuracy: 0.8511\n",
      "Epoch 25/50\n",
      "4/5 [=======================>......] - ETA: 0s - loss: 0.0236 - accuracy: 1.0000\n",
      "Epoch 00025: val_accuracy did not improve from 0.91489\n",
      "5/5 [==============================] - 1s 202ms/step - loss: 0.0265 - accuracy: 1.0000 - val_loss: 0.4048 - val_accuracy: 0.8085\n",
      "Epoch 26/50\n",
      "4/5 [=======================>......] - ETA: 0s - loss: 0.0165 - accuracy: 1.0000\n",
      "Epoch 00026: val_accuracy did not improve from 0.91489\n",
      "5/5 [==============================] - 1s 200ms/step - loss: 0.0170 - accuracy: 1.0000 - val_loss: 0.3861 - val_accuracy: 0.8298\n",
      "Epoch 27/50\n",
      "4/5 [=======================>......] - ETA: 0s - loss: 0.0231 - accuracy: 1.0000\n",
      "Epoch 00027: val_accuracy did not improve from 0.91489\n",
      "5/5 [==============================] - 1s 195ms/step - loss: 0.0225 - accuracy: 1.0000 - val_loss: 0.4042 - val_accuracy: 0.8085\n",
      "Epoch 28/50\n",
      "4/5 [=======================>......] - ETA: 0s - loss: 0.0166 - accuracy: 1.0000\n",
      "Epoch 00028: val_accuracy did not improve from 0.91489\n",
      "5/5 [==============================] - 1s 203ms/step - loss: 0.0157 - accuracy: 1.0000 - val_loss: 0.4825 - val_accuracy: 0.8298\n",
      "Epoch 29/50\n",
      "4/5 [=======================>......] - ETA: 0s - loss: 0.0150 - accuracy: 1.0000\n",
      "Epoch 00029: val_accuracy did not improve from 0.91489\n",
      "5/5 [==============================] - 1s 212ms/step - loss: 0.0141 - accuracy: 1.0000 - val_loss: 0.4391 - val_accuracy: 0.8298\n",
      "Epoch 30/50\n",
      "4/5 [=======================>......] - ETA: 0s - loss: 0.0134 - accuracy: 1.0000\n",
      "Epoch 00030: val_accuracy did not improve from 0.91489\n",
      "5/5 [==============================] - 1s 207ms/step - loss: 0.0129 - accuracy: 1.0000 - val_loss: 0.4313 - val_accuracy: 0.8085\n",
      "Epoch 31/50\n",
      "4/5 [=======================>......] - ETA: 0s - loss: 0.0125 - accuracy: 1.0000\n",
      "Epoch 00031: val_accuracy did not improve from 0.91489\n",
      "5/5 [==============================] - 1s 219ms/step - loss: 0.0130 - accuracy: 1.0000 - val_loss: 0.4104 - val_accuracy: 0.8723\n",
      "Epoch 32/50\n",
      "4/5 [=======================>......] - ETA: 0s - loss: 0.0118 - accuracy: 1.0000\n",
      "Epoch 00032: val_accuracy did not improve from 0.91489\n",
      "5/5 [==============================] - 1s 213ms/step - loss: 0.0122 - accuracy: 1.0000 - val_loss: 0.4465 - val_accuracy: 0.8298\n",
      "Epoch 33/50\n",
      "4/5 [=======================>......] - ETA: 0s - loss: 0.0090 - accuracy: 1.0000\n",
      "Epoch 00033: val_accuracy did not improve from 0.91489\n",
      "5/5 [==============================] - 1s 209ms/step - loss: 0.0107 - accuracy: 1.0000 - val_loss: 0.4205 - val_accuracy: 0.8085\n",
      "Epoch 34/50\n",
      "4/5 [=======================>......] - ETA: 0s - loss: 0.0082 - accuracy: 1.0000\n",
      "Epoch 00034: val_accuracy did not improve from 0.91489\n",
      "5/5 [==============================] - 1s 208ms/step - loss: 0.0084 - accuracy: 1.0000 - val_loss: 0.4291 - val_accuracy: 0.8298\n",
      "Epoch 35/50\n",
      "4/5 [=======================>......] - ETA: 0s - loss: 0.0087 - accuracy: 1.0000\n",
      "Epoch 00035: val_accuracy did not improve from 0.91489\n",
      "5/5 [==============================] - 1s 212ms/step - loss: 0.0087 - accuracy: 1.0000 - val_loss: 0.4667 - val_accuracy: 0.8298\n",
      "Epoch 36/50\n",
      "4/5 [=======================>......] - ETA: 0s - loss: 0.0085 - accuracy: 1.0000\n",
      "Epoch 00036: val_accuracy did not improve from 0.91489\n",
      "5/5 [==============================] - 1s 215ms/step - loss: 0.0082 - accuracy: 1.0000 - val_loss: 0.4491 - val_accuracy: 0.8298\n",
      "Epoch 37/50\n",
      "4/5 [=======================>......] - ETA: 0s - loss: 0.0081 - accuracy: 1.0000\n",
      "Epoch 00037: val_accuracy did not improve from 0.91489\n",
      "5/5 [==============================] - 1s 199ms/step - loss: 0.0079 - accuracy: 1.0000 - val_loss: 0.4308 - val_accuracy: 0.8298\n",
      "Epoch 38/50\n",
      "4/5 [=======================>......] - ETA: 0s - loss: 0.0065 - accuracy: 1.0000\n",
      "Epoch 00038: val_accuracy did not improve from 0.91489\n",
      "5/5 [==============================] - 1s 206ms/step - loss: 0.0066 - accuracy: 1.0000 - val_loss: 0.4603 - val_accuracy: 0.7872\n",
      "Epoch 39/50\n",
      "4/5 [=======================>......] - ETA: 0s - loss: 0.0064 - accuracy: 1.0000\n",
      "Epoch 00039: val_accuracy did not improve from 0.91489\n",
      "5/5 [==============================] - 1s 198ms/step - loss: 0.0065 - accuracy: 1.0000 - val_loss: 0.4635 - val_accuracy: 0.8298\n",
      "Epoch 40/50\n",
      "4/5 [=======================>......] - ETA: 0s - loss: 0.0065 - accuracy: 1.0000\n",
      "Epoch 00040: val_accuracy did not improve from 0.91489\n",
      "5/5 [==============================] - 1s 205ms/step - loss: 0.0067 - accuracy: 1.0000 - val_loss: 0.4041 - val_accuracy: 0.8298\n",
      "Epoch 41/50\n",
      "4/5 [=======================>......] - ETA: 0s - loss: 0.0056 - accuracy: 1.0000\n",
      "Epoch 00041: val_accuracy did not improve from 0.91489\n",
      "5/5 [==============================] - 1s 202ms/step - loss: 0.0054 - accuracy: 1.0000 - val_loss: 0.4384 - val_accuracy: 0.8085\n",
      "Epoch 42/50\n",
      "4/5 [=======================>......] - ETA: 0s - loss: 0.0051 - accuracy: 1.0000\n",
      "Epoch 00042: val_accuracy did not improve from 0.91489\n",
      "5/5 [==============================] - 1s 216ms/step - loss: 0.0054 - accuracy: 1.0000 - val_loss: 0.4984 - val_accuracy: 0.8085\n",
      "Epoch 43/50\n",
      "4/5 [=======================>......] - ETA: 0s - loss: 0.0055 - accuracy: 1.0000\n",
      "Epoch 00043: val_accuracy did not improve from 0.91489\n",
      "5/5 [==============================] - 1s 215ms/step - loss: 0.0058 - accuracy: 1.0000 - val_loss: 0.4909 - val_accuracy: 0.8085\n",
      "Epoch 44/50\n",
      "4/5 [=======================>......] - ETA: 0s - loss: 0.0047 - accuracy: 1.0000\n",
      "Epoch 00044: val_accuracy did not improve from 0.91489\n",
      "5/5 [==============================] - 1s 209ms/step - loss: 0.0046 - accuracy: 1.0000 - val_loss: 0.4505 - val_accuracy: 0.8085\n",
      "Epoch 45/50\n",
      "4/5 [=======================>......] - ETA: 0s - loss: 0.0045 - accuracy: 1.0000\n",
      "Epoch 00045: val_accuracy did not improve from 0.91489\n",
      "5/5 [==============================] - 1s 205ms/step - loss: 0.0045 - accuracy: 1.0000 - val_loss: 0.4616 - val_accuracy: 0.8298\n",
      "Epoch 46/50\n",
      "4/5 [=======================>......] - ETA: 0s - loss: 0.0050 - accuracy: 1.0000\n",
      "Epoch 00046: val_accuracy did not improve from 0.91489\n",
      "5/5 [==============================] - 1s 200ms/step - loss: 0.0048 - accuracy: 1.0000 - val_loss: 0.4717 - val_accuracy: 0.8298\n",
      "Epoch 47/50\n",
      "4/5 [=======================>......] - ETA: 0s - loss: 0.0043 - accuracy: 1.0000\n",
      "Epoch 00047: val_accuracy did not improve from 0.91489\n",
      "5/5 [==============================] - 1s 199ms/step - loss: 0.0045 - accuracy: 1.0000 - val_loss: 0.4336 - val_accuracy: 0.8723\n",
      "Epoch 48/50\n",
      "4/5 [=======================>......] - ETA: 0s - loss: 0.0040 - accuracy: 1.0000\n",
      "Epoch 00048: val_accuracy did not improve from 0.91489\n",
      "5/5 [==============================] - 1s 197ms/step - loss: 0.0039 - accuracy: 1.0000 - val_loss: 0.4531 - val_accuracy: 0.8298\n",
      "Epoch 49/50\n",
      "4/5 [=======================>......] - ETA: 0s - loss: 0.0040 - accuracy: 1.0000\n",
      "Epoch 00049: val_accuracy did not improve from 0.91489\n",
      "5/5 [==============================] - 1s 207ms/step - loss: 0.0040 - accuracy: 1.0000 - val_loss: 0.4394 - val_accuracy: 0.8298\n",
      "Epoch 50/50\n",
      "4/5 [=======================>......] - ETA: 0s - loss: 0.0036 - accuracy: 1.0000\n",
      "Epoch 00050: val_accuracy did not improve from 0.91489\n",
      "5/5 [==============================] - 1s 212ms/step - loss: 0.0040 - accuracy: 1.0000 - val_loss: 0.5361 - val_accuracy: 0.8298\n"
     ]
    }
   ],
   "source": [
    "Reduce_learning_rate = ReduceLROnPlateau(monitor='val_loss', factor=0.2,patience=5, min_lr=0.001)\n",
    "checkpointer = ModelCheckpoint(filepath=\"best_weights_simple_cnn.hdf5\", monitor = 'val_accuracy', verbose=1, save_best_only=True)\n",
    "callbacks = [Reduce_learning_rate, checkpointer]\n",
    "\n",
    "model = build_model()\n",
    "history = model.fit(dados_treino, validation_data = dados_validacao, epochs = 50, callbacks = callbacks)"
   ]
  },
  {
   "cell_type": "code",
   "execution_count": 7,
   "metadata": {},
   "outputs": [
    {
     "name": "stdout",
     "output_type": "stream",
     "text": [
      "WARNING:tensorflow:sample_weight modes were coerced from\n",
      "  ...\n",
      "    to  \n",
      "  ['...']\n",
      "3/3 [==============================] - 0s 108ms/step - loss: 0.8730 - accuracy: 0.7969\n"
     ]
    },
    {
     "data": {
      "text/plain": [
       "[0.8730404625336329, 0.796875]"
      ]
     },
     "execution_count": 7,
     "metadata": {},
     "output_type": "execute_result"
    }
   ],
   "source": [
    "model.evaluate(dados_teste)"
   ]
  },
  {
   "cell_type": "code",
   "execution_count": 8,
   "metadata": {},
   "outputs": [
    {
     "name": "stdout",
     "output_type": "stream",
     "text": [
      "WARNING:tensorflow:sample_weight modes were coerced from\n",
      "  ...\n",
      "    to  \n",
      "  ['...']\n",
      "3/3 [==============================] - 0s 101ms/step - loss: 0.6680 - accuracy: 0.7188\n"
     ]
    },
    {
     "data": {
      "text/plain": [
       "[0.6679790019989014, 0.71875]"
      ]
     },
     "execution_count": 8,
     "metadata": {},
     "output_type": "execute_result"
    }
   ],
   "source": [
    "model_best_weights = build_model()\n",
    "model_best_weights.load_weights('best_weights_simple_cnn.hdf5')\n",
    "\n",
    "model_best_weights.evaluate(dados_teste)"
   ]
  },
  {
   "cell_type": "code",
   "execution_count": 9,
   "metadata": {},
   "outputs": [
    {
     "data": {
      "image/png": "[encoded data removed]",
      "text/plain": [
       "<Figure size 432x288 with 1 Axes>"
      ]
     },
     "metadata": {
      "needs_background": "light"
     },
     "output_type": "display_data"
    },
    {
     "data": {
      "image/png": "[encoded data removed]",
      "text/plain": [
       "<Figure size 432x288 with 1 Axes>"
      ]
     },
     "metadata": {
      "needs_background": "light"
     },
     "output_type": "display_data"
    }
   ],
   "source": [
    "#Visualizar gráficos\n",
    "accuracy = history.history['accuracy']\n",
    "val_accuracy = history.history['val_accuracy']\n",
    "loss = history.history['loss']\n",
    "val_loss = history.history['val_loss']\n",
    "epochs = range(len(accuracy))\n",
    "\n",
    "#Gráfico Accuracy\n",
    "plt.plot(epochs, accuracy, 'b', color = 'green', label = 'Accuracy Treino')\n",
    "plt.plot(epochs, val_accuracy, 'b', label = 'Accuracy Validação')\n",
    "plt.title('Accuracy do treino e da validação')\n",
    "plt.legend()\n",
    "plt.figure()\n",
    "\n",
    "#Gráfico Loss\n",
    "plt.plot(epochs, loss, 'b', color = 'green', label = 'Loss Treino')\n",
    "plt.plot(epochs, val_loss, 'b', label = 'Loss Validação')\n",
    "plt.title('Loss do treino e da validação')\n",
    "plt.legend()\n",
    "plt.show()"
   ]
  }
 ],
 "metadata": {
  "kernelspec": {
   "display_name": "Python 3",
   "language": "python",
   "name": "python3"
  },
  "language_info": {
   "codemirror_mode": {
    "name": "ipython",
    "version": 3
   },
   "file_extension": ".py",
   "mimetype": "text/x-python",
   "name": "python",
   "nbconvert_exporter": "python",
   "pygments_lexer": "ipython3",
   "version": "3.7.7"
  }
 },
 "nbformat": 4,
 "nbformat_minor": 4
}
