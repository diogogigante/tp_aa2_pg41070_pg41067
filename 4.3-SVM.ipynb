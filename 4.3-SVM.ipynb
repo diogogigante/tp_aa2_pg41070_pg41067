{
 "cells": [
  {
   "cell_type": "code",
   "execution_count": 1,
   "metadata": {},
   "outputs": [],
   "source": [
    "import numpy as np\n",
    "from tensorflow.keras.preprocessing.image import ImageDataGenerator\n",
    "from sklearn import svm\n",
    "from sklearn.model_selection import cross_val_score"
   ]
  },
  {
   "cell_type": "markdown",
   "metadata": {},
   "source": [
    "#### Criar um *ImageDataGenerator* para todos os dados do *dataset*. Não executamos qualquer tipo de *data augmentation*, apenas normalizamos os dados entre 0 e 1.\n",
    "#### Usamos a função *flow_from_directory* para carregar os dados da pasta que contém o *dataset* inicial, e, definimos o *batch_size* a 253 que é o tamanho do *dataset*. Desta forma, conseguimos, ao carregar um *batch* deste iterador, obter todos os dados do *dataset*. Definimos a *color_mode* como *grayscale* para obtermos apenas uma camada de cor (o que não acontecia com a opção *default*) e, definimos a *class_mode* como  binária para ir de encontro ao nosso problema"
   ]
  },
  {
   "cell_type": "code",
   "execution_count": 2,
   "metadata": {},
   "outputs": [
    {
     "name": "stdout",
     "output_type": "stream",
     "text": [
      "Found 253 images belonging to 3 classes.\n"
     ]
    }
   ],
   "source": [
    "seed = 123\n",
    "dados_size = 253\n",
    "\n",
    "dataset_folder = 'brain_tumor_dataset/'\n",
    "\n",
    "datagen = ImageDataGenerator(rescale = 1./255)\n",
    "\n",
    "dados = datagen.flow_from_directory(\n",
    "    dataset_folder,\n",
    "    target_size = (150,150),\n",
    "    color_mode = \"grayscale\",\n",
    "    batch_size = dados_size,\n",
    "    class_mode=\"binary\")"
   ]
  },
  {
   "cell_type": "markdown",
   "metadata": {},
   "source": [
    "#### Vamos percorrer os *inputs* e *labels* dos dados carregados do diretório previamente mencionado e, vamos adicioná-los a duas variáveis locais e convertidos em *arrays* para futuro uso no modelo."
   ]
  },
  {
   "cell_type": "code",
   "execution_count": 3,
   "metadata": {},
   "outputs": [],
   "source": [
    "x_data = []\n",
    "y_data = []\n",
    "\n",
    "for inputs_batch, labels_batch in dados:\n",
    "    for i, img in enumerate(inputs_batch):\n",
    "        x_data.append(img.reshape(22500))\n",
    "        y_data.append(labels_batch[i])\n",
    "    break\n",
    "    \n",
    "x_data = np.array(x_data)\n",
    "y_data = np.array(y_data)"
   ]
  },
  {
   "cell_type": "markdown",
   "metadata": {},
   "source": [
    "#### Criação do modelo SVM, com o método *SVC* e, com as diferentes possibilidades de *kernels*. Após criado o modelo, é realizada uma validação cruzada com o modelo, os atributos, as classes e 5 *fold's*"
   ]
  },
  {
   "cell_type": "code",
   "execution_count": 5,
   "metadata": {},
   "outputs": [
    {
     "name": "stdout",
     "output_type": "stream",
     "text": [
      "Kernel linear\n",
      "[0.70588235 0.84313725 0.84313725 0.68       0.76      ]\n",
      "0.7664313725490196\n",
      "Kernel rbf\n",
      "[0.80392157 0.78431373 0.80392157 0.76       0.76      ]\n",
      "0.7824313725490196\n",
      "Kernel poly\n",
      "[0.76470588 0.84313725 0.78431373 0.78       0.68      ]\n",
      "0.7704313725490196\n",
      "Kernel sigmoid\n",
      "[0.43137255 0.33333333 0.47058824 0.42       0.46      ]\n",
      "0.42305882352941176\n"
     ]
    }
   ],
   "source": [
    "kernels = ['linear', 'rbf', 'poly','sigmoid']\n",
    "for kernel in kernels:\n",
    "    svc = svm.SVC(kernel=kernel)\n",
    "    scores = cross_val_score(svc, x_data, y_data, cv = 5)\n",
    "    print('Kernel', kernel)\n",
    "    print(scores)\n",
    "    print(scores.mean())"
   ]
  }
 ],
 "metadata": {
  "kernelspec": {
   "display_name": "Python 3",
   "language": "python",
   "name": "python3"
  },
  "language_info": {
   "codemirror_mode": {
    "name": "ipython",
    "version": 3
   },
   "file_extension": ".py",
   "mimetype": "text/x-python",
   "name": "python",
   "nbconvert_exporter": "python",
   "pygments_lexer": "ipython3",
   "version": "3.7.7"
  }
 },
 "nbformat": 4,
 "nbformat_minor": 4
}
