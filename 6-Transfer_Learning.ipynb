{
 "cells": [
  {
   "cell_type": "code",
   "execution_count": 1,
   "metadata": {},
   "outputs": [],
   "source": [
    "import os, shutil, sys, random, cv2\n",
    "from tensorflow.keras.preprocessing.image import ImageDataGenerator\n",
    "import numpy as np\n",
    "import tensorflow as tf\n",
    "from tensorflow.keras.models import Sequential\n",
    "from tensorflow.keras.layers import Dense\n",
    "from tensorflow.keras.layers import Dropout\n",
    "from tensorflow.keras.layers import Flatten\n",
    "from tensorflow.keras.layers import Conv2D\n",
    "from tensorflow.keras.layers import MaxPooling2D\n",
    "from tensorflow.keras.optimizers import RMSprop\n",
    "from tensorflow.keras.optimizers import SGD\n",
    "from tensorflow.python.keras.utils import np_utils\n",
    "from tensorflow.keras import backend as K\n",
    "K.set_image_data_format('channels_last')\n",
    "import matplotlib.pyplot as plt\n",
    "from tensorflow.keras.callbacks import ModelCheckpoint\n",
    "from tensorflow.keras import backend as K\n",
    "from tensorflow.keras.models import load_model\n",
    "from tensorflow.keras.models import Model\n",
    "from tensorflow.keras.preprocessing import image\n",
    "from tensorflow.keras.callbacks import ReduceLROnPlateau\n",
    "from tensorflow.keras.callbacks import History\n",
    "from tensorflow.keras.callbacks import LearningRateScheduler\n",
    "from tensorflow.keras.callbacks import EarlyStopping\n",
    "import seaborn as sns\n",
    "from sklearn.model_selection import KFold\n",
    "from sklearn.model_selection import train_test_split\n",
    "from sklearn.metrics import accuracy_score\n",
    "from random import choice\n",
    "from tensorflow.keras.callbacks import EarlyStopping\n",
    "from tensorflow.keras.applications.vgg16 import VGG16\n"
   ]
  },
  {
   "cell_type": "code",
   "execution_count": 18,
   "metadata": {},
   "outputs": [],
   "source": [
    "dataset_dividido_folder = 'brain_tumor_dataset_dividido/'\n",
    "\n",
    "treino_folder = 'treino/'\n",
    "teste_folder = 'teste/'\n",
    "\n",
    "dataset_dividido_folder_treino = dataset_dividido_folder + treino_folder\n",
    "dataset_dividido_folder_teste = dataset_dividido_folder + teste_folder\n"
   ]
  },
  {
   "cell_type": "code",
   "execution_count": 19,
   "metadata": {},
   "outputs": [],
   "source": [
    "datagen_treino = ImageDataGenerator(rescale = 1./255,\n",
    "                                    brightness_range=(0.7, 1.3),\n",
    "                                    vertical_flip=True,\n",
    "                                    horizontal_flip=True,\n",
    "                                    validation_split = 0.25)\n",
    "\n",
    "datagen_teste = ImageDataGenerator(rescale = 1./255)"
   ]
  },
  {
   "cell_type": "code",
   "execution_count": 20,
   "metadata": {},
   "outputs": [
    {
     "name": "stdout",
     "output_type": "stream",
     "text": [
      "Found 145 images belonging to 2 classes.\n",
      "Found 47 images belonging to 2 classes.\n",
      "Found 64 images belonging to 2 classes.\n"
     ]
    }
   ],
   "source": [
    "seed = 123\n",
    "\n",
    "dados_treino = datagen_treino.flow_from_directory(\n",
    "    dataset_dividido_folder_treino,\n",
    "    target_size = (150,150),\n",
    "    #color_mode = \"grayscale\",\n",
    "    batch_size = 1,\n",
    "    class_mode=\"binary\",\n",
    "    subset='training',\n",
    "    seed = seed)\n",
    "\n",
    "\n",
    "\n",
    "dados_validacao = datagen_treino.flow_from_directory(\n",
    "    dataset_dividido_folder_treino,\n",
    "    target_size = (150,150),\n",
    "    #color_mode = \"grayscale\",\n",
    "    batch_size = 1,\n",
    "    class_mode=\"binary\",\n",
    "    subset='validation',\n",
    "    seed = seed)\n",
    "\n",
    "dados_teste = datagen_teste.flow_from_directory(\n",
    "    dataset_dividido_folder_teste,\n",
    "    target_size = (150,150),\n",
    "    #color_mode = \"grayscale\",\n",
    "    batch_size = 1,\n",
    "    class_mode = 'binary'\n",
    "    )"
   ]
  },
  {
   "cell_type": "code",
   "execution_count": 26,
   "metadata": {},
   "outputs": [
    {
     "name": "stdout",
     "output_type": "stream",
     "text": [
      "Downloading data from https://github.com/fchollet/deep-learning-models/releases/download/v0.1/vgg16_weights_tf_dim_ordering_tf_kernels_notop.h5\n",
      "58892288/58889256 [==============================] - 7s 0us/step\n"
     ]
    }
   ],
   "source": [
    "base_model = VGG16(\n",
    "    include_top=False, \n",
    "    input_shape=(150,150,3)\n",
    ")"
   ]
  },
  {
   "cell_type": "markdown",
   "metadata": {},
   "source": [
    "#### Aqui criamos a instância do modelo VGG16 que vamos utilizar para a criação do nosso modelo. Definimos o include_top em false para não utilizarmos as 3 camadas totalmente conectadas na parte superior da rede e passamos também o input shape do modelo. Apesar deste modelo ter como entrada padrão imagens 224x224, utilizando as resoluções das imagens que temos vindo a utilizar (150x150) obtivemos melhores resultados do que utilizar a resolução padrão do modelo."
   ]
  },
  {
   "cell_type": "code",
   "execution_count": 49,
   "metadata": {},
   "outputs": [
    {
     "name": "stdout",
     "output_type": "stream",
     "text": [
      "Model: \"sequential_11\"\n",
      "_________________________________________________________________\n",
      "Layer (type)                 Output Shape              Param #   \n",
      "=================================================================\n",
      "vgg16 (Model)                (None, 4, 4, 512)         14714688  \n",
      "_________________________________________________________________\n",
      "flatten_11 (Flatten)         (None, 8192)              0         \n",
      "_________________________________________________________________\n",
      "dropout_11 (Dropout)         (None, 8192)              0         \n",
      "_________________________________________________________________\n",
      "dense_17 (Dense)             (None, 1)                 8193      \n",
      "=================================================================\n",
      "Total params: 14,722,881\n",
      "Trainable params: 8,193\n",
      "Non-trainable params: 14,714,688\n",
      "_________________________________________________________________\n"
     ]
    }
   ],
   "source": [
    "\n",
    "model = Sequential()\n",
    "model.add(base_model)\n",
    "model.add(Flatten())\n",
    "model.add(Dropout(0.5))\n",
    "model.add(Dense(1, activation='sigmoid'))\n",
    "\n",
    "model.layers[0].trainable = False\n",
    "\n",
    "model.compile(\n",
    "    loss='binary_crossentropy',\n",
    "    optimizer='adam',\n",
    "    metrics=['accuracy']\n",
    ")\n",
    "\n",
    "model.summary()"
   ]
  },
  {
   "cell_type": "markdown",
   "metadata": {},
   "source": [
    "#### O modelo que criamos é Sequencial dando como primeira camada o VGG16, seguido de uma camada Flatten para colocar o output shape num vetor de uma dimensão, para posteriormente se ligar à camada Densa de output. No meio destas duas camdas colocou-se uma camada de dropout para reduzir o overfitting. Depois desativamos o treino na primeira camada do modelo (VGG16) pois esses pesos já foram anteriormente calculados (pesos pré-treinados no ImageNet), a ideia é reutilizar os mesmos, poupando também tempo de processamento."
   ]
  },
  {
   "cell_type": "code",
   "execution_count": 50,
   "metadata": {},
   "outputs": [
    {
     "name": "stdout",
     "output_type": "stream",
     "text": [
      "WARNING:tensorflow:sample_weight modes were coerced from\n",
      "  ...\n",
      "    to  \n",
      "  ['...']\n",
      "WARNING:tensorflow:sample_weight modes were coerced from\n",
      "  ...\n",
      "    to  \n",
      "  ['...']\n",
      "Train for 30 steps, validate for 20 steps\n",
      "Epoch 1/30\n",
      "30/30 [==============================] - 5s 182ms/step - loss: 0.7993 - accuracy: 0.5667 - val_loss: 0.5782 - val_accuracy: 0.6500\n",
      "Epoch 2/30\n",
      "30/30 [==============================] - 4s 124ms/step - loss: 0.5991 - accuracy: 0.5667 - val_loss: 0.8017 - val_accuracy: 0.5500\n",
      "Epoch 3/30\n",
      "30/30 [==============================] - 4s 133ms/step - loss: 0.5696 - accuracy: 0.8000 - val_loss: 0.4413 - val_accuracy: 0.8000\n",
      "Epoch 4/30\n",
      "30/30 [==============================] - 4s 129ms/step - loss: 0.4472 - accuracy: 0.8000 - val_loss: 0.3716 - val_accuracy: 0.9000\n",
      "Epoch 5/30\n",
      "30/30 [==============================] - 4s 126ms/step - loss: 0.4875 - accuracy: 0.7667 - val_loss: 0.3146 - val_accuracy: 0.8500\n",
      "Epoch 6/30\n",
      "30/30 [==============================] - 4s 125ms/step - loss: 0.2902 - accuracy: 0.9667 - val_loss: 0.2798 - val_accuracy: 0.9500\n",
      "Epoch 7/30\n",
      "30/30 [==============================] - 4s 125ms/step - loss: 0.4712 - accuracy: 0.7667 - val_loss: 0.3394 - val_accuracy: 0.9000\n",
      "Epoch 8/30\n",
      "30/30 [==============================] - 4s 125ms/step - loss: 0.7584 - accuracy: 0.7000 - val_loss: 0.6315 - val_accuracy: 0.7500\n",
      "Epoch 9/30\n",
      "30/30 [==============================] - 4s 136ms/step - loss: 0.5615 - accuracy: 0.6667 - val_loss: 0.3552 - val_accuracy: 0.9000\n",
      "Epoch 10/30\n",
      "30/30 [==============================] - 4s 130ms/step - loss: 0.4657 - accuracy: 0.8000 - val_loss: 0.2942 - val_accuracy: 0.8000\n",
      "Epoch 11/30\n",
      "30/30 [==============================] - 4s 122ms/step - loss: 0.2725 - accuracy: 0.9667 - val_loss: 0.3088 - val_accuracy: 0.8500\n",
      "Epoch 12/30\n",
      "30/30 [==============================] - 4s 123ms/step - loss: 0.5104 - accuracy: 0.7667 - val_loss: 0.2428 - val_accuracy: 0.9000\n",
      "Epoch 13/30\n",
      "30/30 [==============================] - 4s 123ms/step - loss: 0.2250 - accuracy: 0.9000 - val_loss: 0.3885 - val_accuracy: 0.8000\n",
      "Epoch 14/30\n",
      "30/30 [==============================] - 4s 128ms/step - loss: 0.3931 - accuracy: 0.8333 - val_loss: 0.2630 - val_accuracy: 0.8500\n",
      "Epoch 15/30\n",
      "30/30 [==============================] - 4s 124ms/step - loss: 0.3322 - accuracy: 0.8000 - val_loss: 0.3907 - val_accuracy: 0.8500\n",
      "Epoch 16/30\n",
      "30/30 [==============================] - 4s 122ms/step - loss: 0.3041 - accuracy: 0.8333 - val_loss: 0.2002 - val_accuracy: 0.9000\n"
     ]
    }
   ],
   "source": [
    "early = EarlyStopping(monitor='val_accuracy', mode='max', patience=10\n",
    ")\n",
    "\n",
    "history = model.fit_generator(\n",
    "    dados_treino,\n",
    "    steps_per_epoch=30,\n",
    "    epochs=30,\n",
    "    validation_data=dados_validacao,\n",
    "    validation_steps=20,\n",
    "    callbacks=[early]\n",
    ")"
   ]
  },
  {
   "cell_type": "markdown",
   "metadata": {},
   "source": [
    "#### Para efetuarmos o fit do modelo definimos steps_per_epoch (Número total de etapas (lotes de amostras) a produzir a partir do `generator` antes de declarar uma época por terminada e começar a seguinte) igual a 30, foi definido o número de épocas igual a 30, dados de validação e os validations_steps. Foi utilizado também o callback early stopping com tolerância de 10 para o valor de val_accuracy."
   ]
  },
  {
   "cell_type": "code",
   "execution_count": 51,
   "metadata": {},
   "outputs": [
    {
     "name": "stdout",
     "output_type": "stream",
     "text": [
      "WARNING:tensorflow:sample_weight modes were coerced from\n",
      "  ...\n",
      "    to  \n",
      "  ['...']\n",
      "Accuracy:  82.8125\n"
     ]
    }
   ],
   "source": [
    "scores = model.evaluate(dados_teste, verbose = 0)\n",
    "print(\"Accuracy: \", scores[1] * 100)"
   ]
  },
  {
   "cell_type": "markdown",
   "metadata": {},
   "source": [
    "### Obtivemos perto de 83% de accuracy nos dados de teste, sendo um resultado muito positivo para o dataset em questão. "
   ]
  },
  {
   "cell_type": "code",
   "execution_count": 52,
   "metadata": {},
   "outputs": [
    {
     "data": {
      "image/png": "[encoded data removed]",
      "text/plain": [
       "<Figure size 432x288 with 1 Axes>"
      ]
     },
     "metadata": {
      "needs_background": "light"
     },
     "output_type": "display_data"
    },
    {
     "data": {
      "image/png": "[encoded data removed]",
      "text/plain": [
       "<Figure size 432x288 with 1 Axes>"
      ]
     },
     "metadata": {
      "needs_background": "light"
     },
     "output_type": "display_data"
    }
   ],
   "source": [
    "#Visualizar gráficos\n",
    "accuracy = history.history['accuracy']\n",
    "val_accuracy = history.history['val_accuracy']\n",
    "loss = history.history['loss']\n",
    "val_loss = history.history['val_loss']\n",
    "epochs = range(len(accuracy))\n",
    "\n",
    "#Gráfico Accuracy\n",
    "plt.plot(epochs, accuracy, 'b', color = 'green', label = 'Accuracy Treino')\n",
    "plt.plot(epochs, val_accuracy, 'b', label = 'Accuracy Validação')\n",
    "plt.title('Accuracy do treino e da validação')\n",
    "plt.legend()\n",
    "plt.figure()\n",
    "\n",
    "#Gráfico Loss\n",
    "plt.plot(epochs, loss, 'b', color = 'green', label = 'Loss Treino')\n",
    "plt.plot(epochs, val_loss, 'b', label = 'Loss Validação')\n",
    "plt.title('Loss do treino e da validação')\n",
    "plt.legend()\n",
    "plt.show()"
   ]
  },
  {
   "cell_type": "markdown",
   "metadata": {},
   "source": [
    "#### Nesta célula podemos verificar as curvas de accuracy de treino e validação no primeiro gráfico. Após vários testes, este foi o melhor resultado obtido para este modelo, mesmo as curvas não ilustrarem grande linearidade na accuracy quer nos dados de treino quer nos dados de validação. No segundo gráfico podemos verificar as curvas de loss de treino e validação. Tal como as curvas de accuracy, o modelo não tem grande linearidade nas curvas de loss. Para o dataset em questão, com as adversidade que contém estas curvas tornam-se bastantes razoáveis.  "
   ]
  }
 ],
 "metadata": {
  "kernelspec": {
   "display_name": "Python 3",
   "language": "python",
   "name": "python3"
  },
  "language_info": {
   "codemirror_mode": {
    "name": "ipython",
    "version": 3
   },
   "file_extension": ".py",
   "mimetype": "text/x-python",
   "name": "python",
   "nbconvert_exporter": "python",
   "pygments_lexer": "ipython3",
   "version": "3.7.7"
  }
 },
 "nbformat": 4,
 "nbformat_minor": 4
}
