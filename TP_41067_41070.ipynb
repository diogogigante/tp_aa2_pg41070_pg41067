{
 "cells": [
  {
   "cell_type": "code",
   "execution_count": 2,
   "metadata": {},
   "outputs": [],
   "source": [
    "import os, shutil, sys\n",
    "from tensorflow.keras.preprocessing.image import ImageDataGenerator\n",
    "import numpy as np\n",
    "import tensorflow as tf\n",
    "from tensorflow.keras.models import Sequential\n",
    "from tensorflow.keras.layers import Dense\n",
    "from tensorflow.keras.layers import Dropout\n",
    "from tensorflow.keras.layers import Flatten\n",
    "from tensorflow.keras.layers import Conv2D\n",
    "from tensorflow.keras.layers import MaxPooling2D\n",
    "from tensorflow.keras.optimizers import RMSprop\n",
    "from tensorflow.python.keras.utils import np_utils\n",
    "from tensorflow.keras import backend as K\n",
    "K.set_image_data_format('channels_last')\n",
    "import matplotlib.pyplot as plt\n",
    "from tensorflow.keras.callbacks import ModelCheckpoint\n",
    "from tensorflow.keras import backend as K\n",
    "from tensorflow.keras.models import load_model\n",
    "from tensorflow.keras.models import Model"
   ]
  },
  {
   "cell_type": "code",
   "execution_count": 3,
   "metadata": {},
   "outputs": [],
   "source": [
    "dataset_folder = '/Users/danielfaria/Desktop/MEI/2ºSemestre/AAII/trabalho_pratico/brain_tumor_dataset/'\n",
    "dataset_dividido_folder = '/Users/danielfaria/Desktop/MEI/2ºSemestre/AAII/trabalho_pratico/brain_tumor_dataset_dividido/'\n",
    "treino_folder = 'treino/'\n",
    "validacao_folder = 'validacao/'\n",
    "teste_folder = 'teste/'\n",
    "\n",
    "yes = 'yes'\n",
    "no = 'no'\n",
    "\n",
    "if not os.path.isdir(dataset_dividido_folder):\n",
    "  os.mkdir(dataset_dividido_folder)\n",
    "\n",
    "if not os.path.isdir(dataset_dividido_folder + treino_folder):\n",
    "  os.mkdir(dataset_dividido_folder + treino_folder)\n",
    "  os.mkdir(dataset_dividido_folder + treino_folder + yes)\n",
    "  os.mkdir(dataset_dividido_folder + treino_folder + no)\n",
    "\n",
    "if not os.path.isdir(dataset_dividido_folder + validacao_folder):\n",
    "  os.mkdir(dataset_dividido_folder + validacao_folder)\n",
    "  os.mkdir(dataset_dividido_folder + validacao_folder + yes)\n",
    "  os.mkdir(dataset_dividido_folder + validacao_folder + no)\n",
    "\n",
    "if not os.path.isdir(dataset_dividido_folder + teste_folder):\n",
    "  os.mkdir(dataset_dividido_folder + teste_folder)\n",
    "  os.mkdir(dataset_dividido_folder + teste_folder + yes)\n",
    "  os.mkdir(dataset_dividido_folder + teste_folder + no)"
   ]
  },
  {
   "cell_type": "code",
   "execution_count": 72,
   "metadata": {},
   "outputs": [],
   "source": [
    "numb = []\n",
    "for pasta in os.listdir(dataset_folder):\n",
    "    if not pasta.startswith('.'):\n",
    "        IMG_NUM = len(os.listdir(dataset_folder + pasta))\n",
    "        for (n, FILE_NAME) in enumerate(os.listdir(dataset_folder + pasta)):\n",
    "            img = dataset_folder + pasta + '/' + FILE_NAME\n",
    "            if n < 0.2 * IMG_NUM:\n",
    "                numb.append(n)\n",
    "                shutil.copy(img, dataset_dividido_folder + teste_folder + pasta + '/' + FILE_NAME) \n",
    "            elif n < 0.7 * IMG_NUM and n not in numb:\n",
    "                shutil.copy(img, dataset_dividido_folder + treino_folder + pasta + '/' + FILE_NAME) \n",
    "            else:\n",
    "                shutil.copy(img, dataset_dividido_folder + validacao_folder + pasta + '/' + FILE_NAME) "
   ]
  },
  {
   "cell_type": "code",
   "execution_count": 4,
   "metadata": {},
   "outputs": [],
   "source": [
    "#Redimensionar imagens\n",
    "treino_gen = ImageDataGenerator(rescale = 1./255)\n",
    "teste_gen = ImageDataGenerator(rescale = 1./255)\n",
    "validacao_gen = ImageDataGenerator(rescale = 1./255)"
   ]
  },
  {
   "cell_type": "code",
   "execution_count": 5,
   "metadata": {},
   "outputs": [
    {
     "name": "stdout",
     "output_type": "stream",
     "text": [
      "Found 126 images belonging to 2 classes.\n",
      "Found 52 images belonging to 2 classes.\n",
      "Found 75 images belonging to 2 classes.\n"
     ]
    }
   ],
   "source": [
    "treino_dir = dataset_dividido_folder + treino_folder\n",
    "teste_dir = dataset_dividido_folder + teste_folder\n",
    "validacao_dir = dataset_dividido_folder + validacao_folder\n",
    "#Aplicar a redimensão aos dados treino, teste e validação\n",
    "dados_treino = treino_gen.flow_from_directory(\n",
    "    treino_dir,\n",
    "    target_size = (150,150),\n",
    "    batch_size = 10,\n",
    "    class_mode = 'binary'\n",
    "    )\n",
    "dados_teste = teste_gen.flow_from_directory(\n",
    "    teste_dir,\n",
    "    target_size = (150,150),\n",
    "    batch_size = 10,\n",
    "    class_mode = 'binary'\n",
    "    )\n",
    "dados_validacao = validacao_gen.flow_from_directory(\n",
    "    validacao_dir,\n",
    "    target_size = (150,150),\n",
    "    batch_size = 10,\n",
    "    class_mode = 'binary'\n",
    "    )"
   ]
  },
  {
   "cell_type": "code",
   "execution_count": 6,
   "metadata": {},
   "outputs": [
    {
     "name": "stdout",
     "output_type": "stream",
     "text": [
      "Shape dos atributos:  (10, 150, 150, 3)\n",
      "Shape das labels:  (10,)\n",
      "Shape dos atributos:  (10, 150, 150, 3)\n",
      "Shape das labels:  (10,)\n",
      "Shape dos atributos:  (10, 150, 150, 3)\n",
      "Shape das labels:  (10,)\n"
     ]
    }
   ],
   "source": [
    "#Ver os shapes\n",
    "for x, y in dados_treino:\n",
    "    print(\"Shape dos atributos: \", x.shape)\n",
    "    print(\"Shape das labels: \", y.shape)\n",
    "    break\n",
    "for x, y in dados_teste:\n",
    "    print(\"Shape dos atributos: \", x.shape)\n",
    "    print(\"Shape das labels: \", y.shape)\n",
    "    break\n",
    "for x, y in dados_validacao:\n",
    "    print(\"Shape dos atributos: \", x.shape)\n",
    "    print(\"Shape das labels: \", y.shape)\n",
    "    break"
   ]
  },
  {
   "cell_type": "code",
   "execution_count": 7,
   "metadata": {},
   "outputs": [],
   "source": [
    "#Criar o modelo com CNNs\n",
    "model = Sequential()\n",
    "model.add(Conv2D(60,(3,3), input_shape = (150,150,3), activation = 'relu'))\n",
    "model.add(MaxPooling2D(pool_size = (2,2)))\n",
    "model.add(Dropout(0.2))\n",
    "model.add(Flatten())\n",
    "model.add(Dense(512, activation = 'relu'))\n",
    "model.add(Dense(1, activation = 'sigmoid'))\n",
    "model.compile(loss = \"binary_crossentropy\", optimizer = tf.keras.optimizers.Adam(learning_rate = 0.001), metrics = ['accuracy'])"
   ]
  },
  {
   "cell_type": "code",
   "execution_count": 8,
   "metadata": {},
   "outputs": [
    {
     "name": "stdout",
     "output_type": "stream",
     "text": [
      "Train for 1 steps, validate for 8 steps\n",
      "1/1 [==============================] - 5s 5s/step - loss: 0.7160 - accuracy: 0.2000 - val_loss: 96.8088 - val_accuracy: 0.6133\n"
     ]
    }
   ],
   "source": [
    "#Efetuar o fit ao modelo\n",
    "history = model.fit(dados_teste, steps_per_epoch = 10, epochs = 10, validation_data = dados_validacao, verbose = 1)"
   ]
  },
  {
   "cell_type": "code",
   "execution_count": 9,
   "metadata": {},
   "outputs": [
    {
     "name": "stdout",
     "output_type": "stream",
     "text": [
      "13/13 [==============================] - 2s 162ms/step - loss: 6.1726 - accuracy: 0.6111\n",
      "Accuracy do modelo:  61.11111044883728\n"
     ]
    }
   ],
   "source": [
    "#Avaliar o modelo\n",
    "scores = model.evaluate_generator(dados_treino, verbose = 1)\n",
    "print(\"Accuracy do modelo: \", scores[1] * 100)"
   ]
  },
  {
   "cell_type": "code",
   "execution_count": 3,
   "metadata": {},
   "outputs": [
    {
     "ename": "NameError",
     "evalue": "name 'history' is not defined",
     "output_type": "error",
     "traceback": [
      "\u001b[0;31m---------------------------------------------------------------------------\u001b[0m",
      "\u001b[0;31mNameError\u001b[0m                                 Traceback (most recent call last)",
      "\u001b[0;32m<ipython-input-3-4157a97255b0>\u001b[0m in \u001b[0;36m<module>\u001b[0;34m\u001b[0m\n\u001b[1;32m     12\u001b[0m plt.figure()'''\n\u001b[1;32m     13\u001b[0m \u001b[0;34m\u001b[0m\u001b[0m\n\u001b[0;32m---> 14\u001b[0;31m \u001b[0mplt\u001b[0m\u001b[0;34m.\u001b[0m\u001b[0mplot\u001b[0m\u001b[0;34m(\u001b[0m\u001b[0mhistory\u001b[0m\u001b[0;34m.\u001b[0m\u001b[0mhistory\u001b[0m\u001b[0;34m[\u001b[0m\u001b[0;34m'accuracy'\u001b[0m\u001b[0;34m]\u001b[0m\u001b[0;34m)\u001b[0m\u001b[0;34m\u001b[0m\u001b[0;34m\u001b[0m\u001b[0m\n\u001b[0m\u001b[1;32m     15\u001b[0m \u001b[0mplt\u001b[0m\u001b[0;34m.\u001b[0m\u001b[0mplot\u001b[0m\u001b[0;34m(\u001b[0m\u001b[0mhistory\u001b[0m\u001b[0;34m.\u001b[0m\u001b[0mhistory\u001b[0m\u001b[0;34m[\u001b[0m\u001b[0;34m'val_accuracy'\u001b[0m\u001b[0;34m]\u001b[0m\u001b[0;34m)\u001b[0m\u001b[0;34m\u001b[0m\u001b[0;34m\u001b[0m\u001b[0m\n\u001b[1;32m     16\u001b[0m \u001b[0mplt\u001b[0m\u001b[0;34m.\u001b[0m\u001b[0mtitle\u001b[0m\u001b[0;34m(\u001b[0m\u001b[0;34m'model accuracy'\u001b[0m\u001b[0;34m)\u001b[0m\u001b[0;34m\u001b[0m\u001b[0;34m\u001b[0m\u001b[0m\n",
      "\u001b[0;31mNameError\u001b[0m: name 'history' is not defined"
     ]
    }
   ],
   "source": [
    "#Visualizar gráficos\n",
    "accuracy = history.history['accuracy']\n",
    "val_accuracy = history.history['val_accuracy']\n",
    "loss = history.history['loss']\n",
    "val_loss = history.history['val_loss']\n",
    "epochs = range(len(accuracy))\n",
    "\n",
    "#Gráfico Accuracy\n",
    "plt.plot(epochs, accuracy, 'bo', label = 'Accuracy Treino')\n",
    "plt.plot(epochs, accuracy, 'b', label = 'Accuracy Teste')\n",
    "plt.title('Accuracy do treino e do teste')\n",
    "plt.legend()\n",
    "plt.figure()\n",
    "\n",
    "#Gráfico Loss\n",
    "plt.plot(epochs, loss, 'bo', label = 'Loss Treino')\n",
    "plt.plot(epochs, val_loss, 'b', label = 'Loss Teste')\n",
    "plt.title('Loss do treino e do teste')\n",
    "plt.legend()\n",
    "plt.show()"
   ]
  },
  {
   "cell_type": "code",
   "execution_count": null,
   "metadata": {},
   "outputs": [],
   "source": []
  }
 ],
 "metadata": {
  "kernelspec": {
   "display_name": "Python 3",
   "language": "python",
   "name": "python3"
  },
  "language_info": {
   "codemirror_mode": {
    "name": "ipython",
    "version": 3
   },
   "file_extension": ".py",
   "mimetype": "text/x-python",
   "name": "python",
   "nbconvert_exporter": "python",
   "pygments_lexer": "ipython3",
   "version": "3.7.6"
  }
 },
 "nbformat": 4,
 "nbformat_minor": 4
}
